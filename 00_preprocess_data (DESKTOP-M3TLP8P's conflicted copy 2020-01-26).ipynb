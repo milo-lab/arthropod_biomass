{
 "cells": [
  {
   "cell_type": "code",
   "execution_count": 1,
   "metadata": {},
   "outputs": [
    {
     "name": "stdout",
     "output_type": "stream",
     "text": [
      "The history saving thread hit an unexpected error (DatabaseError('database disk image is malformed',)).History will not be written to the database.\n"
     ]
    }
   ],
   "source": [
    "import pandas as pd"
   ]
  },
  {
   "cell_type": "code",
   "execution_count": 2,
   "metadata": {},
   "outputs": [],
   "source": [
    "raw_data = pd.read_excel('data/raw_data.xlsx')"
   ]
  },
  {
   "cell_type": "markdown",
   "metadata": {},
   "source": [
    "### 1) Remove non-mass measurements"
   ]
  },
  {
   "cell_type": "code",
   "execution_count": 3,
   "metadata": {},
   "outputs": [],
   "source": [
    "mass_data = raw_data[raw_data.units=='mg/m^2 (dry weight)']"
   ]
  },
  {
   "cell_type": "code",
   "execution_count": 4,
   "metadata": {},
   "outputs": [],
   "source": [
    "metadata = pd.read_csv('data/groups_per_reference.csv')\n",
    "mass_data_with_meta = mass_data.merge(metadata,left_on='reference', right_on='Paper',how='left')"
   ]
  },
  {
   "cell_type": "code",
   "execution_count": 5,
   "metadata": {},
   "outputs": [
    {
     "data": {
      "text/plain": [
       "Standard groups\n",
       "Acari                  9\n",
       "Arthropods           156\n",
       "Collembola, Acari     47\n",
       "Formicidae            49\n",
       "Macroarthropods        4\n",
       "Microarthropods        2\n",
       "Orthoptera             1\n",
       "Some arthropods        4\n",
       "Name: site, dtype: int64"
      ]
     },
     "execution_count": 5,
     "metadata": {},
     "output_type": "execute_result"
    }
   ],
   "source": [
    "mass_data_with_meta.groupby('Standard groups')['site'].nunique()"
   ]
  },
  {
   "cell_type": "code",
   "execution_count": 6,
   "metadata": {},
   "outputs": [],
   "source": [
    "accepted_taxa = ['Acari','Arthropods','Collembola, Acari','Formicidae','Isoptera']\n",
    "valid_data = mass_data_with_meta[mass_data_with_meta['Standard groups'].isin(accepted_taxa)]"
   ]
  },
  {
   "cell_type": "code",
   "execution_count": 7,
   "metadata": {},
   "outputs": [
    {
     "name": "stderr",
     "output_type": "stream",
     "text": [
      "/home/yinonbaron/.local/lib/python3.6/site-packages/pandas/core/indexing.py:376: SettingWithCopyWarning: \n",
      "A value is trying to be set on a copy of a slice from a DataFrame.\n",
      "Try using .loc[row_indexer,col_indexer] = value instead\n",
      "\n",
      "See the caveats in the documentation: http://pandas.pydata.org/pandas-docs/stable/user_guide/indexing.html#returning-a-view-versus-a-copy\n",
      "  self.obj[key] = _infer_fill_value(value)\n",
      "/home/yinonbaron/.local/lib/python3.6/site-packages/pandas/core/indexing.py:494: SettingWithCopyWarning: \n",
      "A value is trying to be set on a copy of a slice from a DataFrame.\n",
      "Try using .loc[row_indexer,col_indexer] = value instead\n",
      "\n",
      "See the caveats in the documentation: http://pandas.pydata.org/pandas-docs/stable/user_guide/indexing.html#returning-a-view-versus-a-copy\n",
      "  self.obj[item] = s\n"
     ]
    }
   ],
   "source": [
    "valid_data.loc[valid_data['sub-class']=='Acari','aggregated taxon'] = 'Acari'\n",
    "valid_data.loc[valid_data['sub-class']=='Collembola','aggregated taxon'] = 'Collembola'\n",
    "valid_data.loc[valid_data['super-family']=='Isoptera','aggregated taxon'] = 'Isoptera'\n",
    "valid_data.loc[valid_data['family']=='Formicidae','aggregated taxon'] = 'Formicidae'\n",
    "valid_data.loc[valid_data['aggregated taxon'].isna(),'aggregated taxon'] = 'Other'"
   ]
  },
  {
   "cell_type": "code",
   "execution_count": 8,
   "metadata": {},
   "outputs": [],
   "source": [
    "soil_data = valid_data[valid_data['aggregated environment'] =='soil/litter']\n",
    "canopy_data = valid_data[valid_data['aggregated environment'] =='plants']\n",
    "surface_data = valid_data[valid_data['aggregated environment'] =='above ground']"
   ]
  },
  {
   "cell_type": "code",
   "execution_count": 9,
   "metadata": {},
   "outputs": [
    {
     "data": {
      "text/html": [
       "<div>\n",
       "<style scoped>\n",
       "    .dataframe tbody tr th:only-of-type {\n",
       "        vertical-align: middle;\n",
       "    }\n",
       "\n",
       "    .dataframe tbody tr th {\n",
       "        vertical-align: top;\n",
       "    }\n",
       "\n",
       "    .dataframe thead th {\n",
       "        text-align: right;\n",
       "    }\n",
       "</style>\n",
       "<table border=\"1\" class=\"dataframe\">\n",
       "  <thead>\n",
       "    <tr style=\"text-align: right;\">\n",
       "      <th>aggregated taxon</th>\n",
       "      <th>Acari</th>\n",
       "      <th>Collembola</th>\n",
       "      <th>Formicidae</th>\n",
       "      <th>Isoptera</th>\n",
       "      <th>Other</th>\n",
       "    </tr>\n",
       "    <tr>\n",
       "      <th>aggregated biome</th>\n",
       "      <th></th>\n",
       "      <th></th>\n",
       "      <th></th>\n",
       "      <th></th>\n",
       "      <th></th>\n",
       "    </tr>\n",
       "  </thead>\n",
       "  <tbody>\n",
       "    <tr>\n",
       "      <th>Boreal Forests/Taiga</th>\n",
       "      <td>11.0</td>\n",
       "      <td>10.0</td>\n",
       "      <td>NaN</td>\n",
       "      <td>NaN</td>\n",
       "      <td>4.0</td>\n",
       "    </tr>\n",
       "    <tr>\n",
       "      <th>Deserts and Xeric Shrublands</th>\n",
       "      <td>NaN</td>\n",
       "      <td>NaN</td>\n",
       "      <td>4.0</td>\n",
       "      <td>NaN</td>\n",
       "      <td>NaN</td>\n",
       "    </tr>\n",
       "    <tr>\n",
       "      <th>Pasture</th>\n",
       "      <td>6.0</td>\n",
       "      <td>6.0</td>\n",
       "      <td>1.0</td>\n",
       "      <td>NaN</td>\n",
       "      <td>NaN</td>\n",
       "    </tr>\n",
       "    <tr>\n",
       "      <th>Shrubland/Grassland</th>\n",
       "      <td>NaN</td>\n",
       "      <td>NaN</td>\n",
       "      <td>14.0</td>\n",
       "      <td>NaN</td>\n",
       "      <td>NaN</td>\n",
       "    </tr>\n",
       "    <tr>\n",
       "      <th>Temperate Forests</th>\n",
       "      <td>38.0</td>\n",
       "      <td>37.0</td>\n",
       "      <td>21.0</td>\n",
       "      <td>NaN</td>\n",
       "      <td>23.0</td>\n",
       "    </tr>\n",
       "    <tr>\n",
       "      <th>Temperate Grasslands, Savannas and Shrublands</th>\n",
       "      <td>14.0</td>\n",
       "      <td>16.0</td>\n",
       "      <td>9.0</td>\n",
       "      <td>3.0</td>\n",
       "      <td>12.0</td>\n",
       "    </tr>\n",
       "    <tr>\n",
       "      <th>Tropical and Subtropical Forests</th>\n",
       "      <td>5.0</td>\n",
       "      <td>6.0</td>\n",
       "      <td>15.0</td>\n",
       "      <td>7.0</td>\n",
       "      <td>7.0</td>\n",
       "    </tr>\n",
       "    <tr>\n",
       "      <th>Tropical and Subtropical Grasslands, Savannas and Shrublands</th>\n",
       "      <td>2.0</td>\n",
       "      <td>2.0</td>\n",
       "      <td>2.0</td>\n",
       "      <td>5.0</td>\n",
       "      <td>3.0</td>\n",
       "    </tr>\n",
       "    <tr>\n",
       "      <th>Tundra</th>\n",
       "      <td>47.0</td>\n",
       "      <td>34.0</td>\n",
       "      <td>1.0</td>\n",
       "      <td>1.0</td>\n",
       "      <td>14.0</td>\n",
       "    </tr>\n",
       "  </tbody>\n",
       "</table>\n",
       "</div>"
      ],
      "text/plain": [
       "aggregated taxon                                    Acari  Collembola  \\\n",
       "aggregated biome                                                        \n",
       "Boreal Forests/Taiga                                 11.0        10.0   \n",
       "Deserts and Xeric Shrublands                          NaN         NaN   \n",
       "Pasture                                               6.0         6.0   \n",
       "Shrubland/Grassland                                   NaN         NaN   \n",
       "Temperate Forests                                    38.0        37.0   \n",
       "Temperate Grasslands, Savannas and Shrublands        14.0        16.0   \n",
       "Tropical and Subtropical Forests                      5.0         6.0   \n",
       "Tropical and Subtropical Grasslands, Savannas a...    2.0         2.0   \n",
       "Tundra                                               47.0        34.0   \n",
       "\n",
       "aggregated taxon                                    Formicidae  Isoptera  \\\n",
       "aggregated biome                                                           \n",
       "Boreal Forests/Taiga                                       NaN       NaN   \n",
       "Deserts and Xeric Shrublands                               4.0       NaN   \n",
       "Pasture                                                    1.0       NaN   \n",
       "Shrubland/Grassland                                       14.0       NaN   \n",
       "Temperate Forests                                         21.0       NaN   \n",
       "Temperate Grasslands, Savannas and Shrublands              9.0       3.0   \n",
       "Tropical and Subtropical Forests                          15.0       7.0   \n",
       "Tropical and Subtropical Grasslands, Savannas a...         2.0       5.0   \n",
       "Tundra                                                     1.0       1.0   \n",
       "\n",
       "aggregated taxon                                    Other  \n",
       "aggregated biome                                           \n",
       "Boreal Forests/Taiga                                  4.0  \n",
       "Deserts and Xeric Shrublands                          NaN  \n",
       "Pasture                                               NaN  \n",
       "Shrubland/Grassland                                   NaN  \n",
       "Temperate Forests                                    23.0  \n",
       "Temperate Grasslands, Savannas and Shrublands        12.0  \n",
       "Tropical and Subtropical Forests                      7.0  \n",
       "Tropical and Subtropical Grasslands, Savannas a...    3.0  \n",
       "Tundra                                               14.0  "
      ]
     },
     "execution_count": 9,
     "metadata": {},
     "output_type": "execute_result"
    }
   ],
   "source": [
    "soil_data.pivot_table(columns='aggregated taxon',values='site',index='aggregated biome', aggfunc='nunique')"
   ]
  },
  {
   "cell_type": "code",
   "execution_count": 10,
   "metadata": {},
   "outputs": [],
   "source": [
    "from uncertainties import unumpy as unp"
   ]
  },
  {
   "cell_type": "code",
   "execution_count": 11,
   "metadata": {},
   "outputs": [],
   "source": [
    "soil_site_data = soil_data.groupby(['aggregated taxon','aggregated biome','site'])['numerical value'].sum()\n",
    "soil_biome_means = soil_site_data.groupby(['aggregated taxon','aggregated biome']).agg(['mean','count','sem'])\n",
    "soil_biome_means.reset_index().pivot_table(columns='aggregated taxon',index='aggregated biome').to_csv('results/biome_means.csv')"
   ]
  },
  {
   "cell_type": "code",
   "execution_count": 27,
   "metadata": {},
   "outputs": [],
   "source": [
    "soil_biome_means_unp.pivot_table(index='aggregated taxon',columns='aggregated biome',values='numerical value',aggfunc=sum).to_csv('results/table1.csv')"
   ]
  },
  {
   "cell_type": "code",
   "execution_count": 12,
   "metadata": {},
   "outputs": [
    {
     "name": "stderr",
     "output_type": "stream",
     "text": [
      "/home/yinonbaron/.local/lib/python3.6/site-packages/numpy/lib/function_base.py:2167: RuntimeWarning: invalid value encountered in ? (vectorized)\n",
      "  outputs = ufunc(*inputs)\n",
      "/home/yinonbaron/.local/lib/python3.6/site-packages/pandas/core/indexing.py:205: SettingWithCopyWarning: \n",
      "A value is trying to be set on a copy of a slice from a DataFrame\n",
      "\n",
      "See the caveats in the documentation: http://pandas.pydata.org/pandas-docs/stable/user_guide/indexing.html#returning-a-view-versus-a-copy\n",
      "  self._setitem_with_indexer(indexer, value)\n",
      "/usr/local/lib/python3.6/dist-packages/ipykernel_launcher.py:9: SettingWithCopyWarning: \n",
      "A value is trying to be set on a copy of a slice from a DataFrame\n",
      "\n",
      "See the caveats in the documentation: http://pandas.pydata.org/pandas-docs/stable/user_guide/indexing.html#returning-a-view-versus-a-copy\n",
      "  if __name__ == '__main__':\n",
      "/usr/local/lib/python3.6/dist-packages/ipykernel_launcher.py:10: SettingWithCopyWarning: \n",
      "A value is trying to be set on a copy of a slice from a DataFrame\n",
      "\n",
      "See the caveats in the documentation: http://pandas.pydata.org/pandas-docs/stable/user_guide/indexing.html#returning-a-view-versus-a-copy\n",
      "  # Remove the CWD from sys.path while we load stuff.\n"
     ]
    }
   ],
   "source": [
    "soil_biome_means_unp = soil_site_data.groupby(['aggregated taxon','aggregated biome']).apply(lambda x: unp.uarray(nominal_values= x.mean(),std_devs=x.sem()))\n",
    "soil_biome_means_unp = soil_biome_means_unp.reset_index()\n",
    "biome_area = pd.read_csv('data/aggregated biomes data.csv')\n",
    "biome_area1 = biome_area.groupby('aggregated biome 1')['area'].sum()\n",
    "biome_area2 = biome_area.groupby('aggregated biome 2')['area'].sum()\n",
    "# .pivot_table(columns='aggregated taxon',index='aggregated biome')\n",
    "soil_biome_means_unp1 = soil_biome_means_unp.merge(pd.DataFrame(biome_area1),left_on='aggregated biome',right_index=True)\n",
    "soil_biome_means_unp2 = soil_biome_means_unp[soil_biome_means_unp['aggregated taxon'].isin(['Formicidae','Isoptera'])]\n",
    "soil_biome_means_unp2.loc[soil_biome_means_unp2.loc[:,'aggregated biome'].str.contains('Forest'),'aggregated biome'] = 'Forests'\n",
    "soil_biome_means_unp2.loc[soil_biome_means_unp2.loc[:,'aggregated biome'].str.contains('Grass'),'aggregated biome'] = 'Shrubland/Grassland'\n",
    "soil_biome_means_unp2 = soil_biome_means_unp2.merge(pd.DataFrame(biome_area2),left_on='aggregated biome',right_index=True)\n",
    "part1 = soil_biome_means_unp1[soil_biome_means_unp1['aggregated taxon'].isin(['Acari','Collembola','Other'])]\n",
    "part2 = soil_biome_means_unp2[soil_biome_means_unp2['aggregated taxon'].isin(['Formicidae','Isoptera'])]"
   ]
  },
  {
   "cell_type": "code",
   "execution_count": 13,
   "metadata": {},
   "outputs": [
    {
     "data": {
      "text/html": [
       "<div>\n",
       "<style scoped>\n",
       "    .dataframe tbody tr th:only-of-type {\n",
       "        vertical-align: middle;\n",
       "    }\n",
       "\n",
       "    .dataframe tbody tr th {\n",
       "        vertical-align: top;\n",
       "    }\n",
       "\n",
       "    .dataframe thead th {\n",
       "        text-align: right;\n",
       "    }\n",
       "</style>\n",
       "<table border=\"1\" class=\"dataframe\">\n",
       "  <thead>\n",
       "    <tr style=\"text-align: right;\">\n",
       "      <th>aggregated biome</th>\n",
       "      <th>Boreal Forests/Taiga</th>\n",
       "      <th>Pasture</th>\n",
       "      <th>Temperate Forests</th>\n",
       "      <th>Temperate Grasslands, Savannas and Shrublands</th>\n",
       "      <th>Tropical and Subtropical Forests</th>\n",
       "      <th>Tropical and Subtropical Grasslands, Savannas and Shrublands</th>\n",
       "      <th>Tundra</th>\n",
       "    </tr>\n",
       "    <tr>\n",
       "      <th>aggregated taxon</th>\n",
       "      <th></th>\n",
       "      <th></th>\n",
       "      <th></th>\n",
       "      <th></th>\n",
       "      <th></th>\n",
       "      <th></th>\n",
       "      <th></th>\n",
       "    </tr>\n",
       "  </thead>\n",
       "  <tbody>\n",
       "    <tr>\n",
       "      <th>Acari</th>\n",
       "      <td>0.0111+/-0.0024</td>\n",
       "      <td>(6.4+/-2.6)e-05</td>\n",
       "      <td>0.0090+/-0.0020</td>\n",
       "      <td>0.0017+/-0.0005</td>\n",
       "      <td>0.021+/-0.020</td>\n",
       "      <td>0.0008+/-0.0005</td>\n",
       "      <td>0.00149+/-0.00029</td>\n",
       "    </tr>\n",
       "    <tr>\n",
       "      <th>Collembola</th>\n",
       "      <td>0.0060+/-0.0021</td>\n",
       "      <td>0.0+/-0</td>\n",
       "      <td>0.08+/-0.04</td>\n",
       "      <td>0.00101+/-0.00021</td>\n",
       "      <td>0.0014+/-0.0006</td>\n",
       "      <td>0.000128+/-0.000010</td>\n",
       "      <td>0.0030+/-0.0011</td>\n",
       "    </tr>\n",
       "    <tr>\n",
       "      <th>Other</th>\n",
       "      <td>0.0025+/-0.0009</td>\n",
       "      <td>NaN</td>\n",
       "      <td>0.0121+/-0.0027</td>\n",
       "      <td>0.006+/-0.005</td>\n",
       "      <td>0.0009+/-0.0004</td>\n",
       "      <td>0.00032+/-0.00014</td>\n",
       "      <td>0.00051+/-0.00027</td>\n",
       "    </tr>\n",
       "  </tbody>\n",
       "</table>\n",
       "</div>"
      ],
      "text/plain": [
       "aggregated biome Boreal Forests/Taiga          Pasture Temperate Forests  \\\n",
       "aggregated taxon                                                           \n",
       "Acari                 0.0111+/-0.0024  (6.4+/-2.6)e-05   0.0090+/-0.0020   \n",
       "Collembola            0.0060+/-0.0021          0.0+/-0       0.08+/-0.04   \n",
       "Other                 0.0025+/-0.0009              NaN   0.0121+/-0.0027   \n",
       "\n",
       "aggregated biome Temperate Grasslands, Savannas and Shrublands  \\\n",
       "aggregated taxon                                                 \n",
       "Acari                                          0.0017+/-0.0005   \n",
       "Collembola                                   0.00101+/-0.00021   \n",
       "Other                                            0.006+/-0.005   \n",
       "\n",
       "aggregated biome Tropical and Subtropical Forests  \\\n",
       "aggregated taxon                                    \n",
       "Acari                               0.021+/-0.020   \n",
       "Collembola                        0.0014+/-0.0006   \n",
       "Other                             0.0009+/-0.0004   \n",
       "\n",
       "aggregated biome Tropical and Subtropical Grasslands, Savannas and Shrublands  \\\n",
       "aggregated taxon                                                                \n",
       "Acari                                               0.0008+/-0.0005             \n",
       "Collembola                                      0.000128+/-0.000010             \n",
       "Other                                             0.00032+/-0.00014             \n",
       "\n",
       "aggregated biome             Tundra  \n",
       "aggregated taxon                     \n",
       "Acari             0.00149+/-0.00029  \n",
       "Collembola          0.0030+/-0.0011  \n",
       "Other             0.00051+/-0.00027  "
      ]
     },
     "execution_count": 13,
     "metadata": {},
     "output_type": "execute_result"
    }
   ],
   "source": [
    "part1.loc[:,'Total'] = (part1.loc[:,'numerical value']*part1.loc[:,'area']).values\n",
    "part1.pivot_table(values='Total',index='aggregated taxon',columns='aggregated biome',aggfunc=sum)/1e18"
   ]
  },
  {
   "cell_type": "code",
   "execution_count": 14,
   "metadata": {},
   "outputs": [
    {
     "data": {
      "text/plain": [
       "aggregated taxon\n",
       "Acari         0.046+/-0.020\n",
       "Collembola      0.09+/-0.04\n",
       "Other         0.023+/-0.006\n",
       "Name: Total, dtype: object"
      ]
     },
     "execution_count": 14,
     "metadata": {},
     "output_type": "execute_result"
    }
   ],
   "source": [
    "part1.groupby('aggregated taxon').Total.sum()/1e18"
   ]
  },
  {
   "cell_type": "code",
   "execution_count": 15,
   "metadata": {},
   "outputs": [
    {
     "data": {
      "text/html": [
       "<div>\n",
       "<style scoped>\n",
       "    .dataframe tbody tr th:only-of-type {\n",
       "        vertical-align: middle;\n",
       "    }\n",
       "\n",
       "    .dataframe tbody tr th {\n",
       "        vertical-align: top;\n",
       "    }\n",
       "\n",
       "    .dataframe thead th {\n",
       "        text-align: right;\n",
       "    }\n",
       "</style>\n",
       "<table border=\"1\" class=\"dataframe\">\n",
       "  <thead>\n",
       "    <tr style=\"text-align: right;\">\n",
       "      <th>aggregated biome</th>\n",
       "      <th>Forests</th>\n",
       "      <th>Shrubland/Grassland</th>\n",
       "    </tr>\n",
       "    <tr>\n",
       "      <th>aggregated taxon</th>\n",
       "      <th></th>\n",
       "      <th></th>\n",
       "    </tr>\n",
       "  </thead>\n",
       "  <tbody>\n",
       "    <tr>\n",
       "      <th>Formicidae</th>\n",
       "      <td>0.0050+/-0.0012</td>\n",
       "      <td>0.031+/-0.007</td>\n",
       "    </tr>\n",
       "    <tr>\n",
       "      <th>Isoptera</th>\n",
       "      <td>0.026+/-0.020</td>\n",
       "      <td>0.07+/-0.05</td>\n",
       "    </tr>\n",
       "  </tbody>\n",
       "</table>\n",
       "</div>"
      ],
      "text/plain": [
       "aggregated biome          Forests Shrubland/Grassland\n",
       "aggregated taxon                                     \n",
       "Formicidae        0.0050+/-0.0012       0.031+/-0.007\n",
       "Isoptera            0.026+/-0.020         0.07+/-0.05"
      ]
     },
     "execution_count": 15,
     "metadata": {},
     "output_type": "execute_result"
    }
   ],
   "source": [
    "part2 = part2[part2['aggregated biome']!='Tundra']\n",
    "part2.loc[:,'Total'] = (part2.loc[:,'numerical value']*part2.loc[:,'area']).values\n",
    "part2.pivot_table(values='Total',index='aggregated taxon',columns='aggregated biome',aggfunc=sum)/1e18"
   ]
  },
  {
   "cell_type": "code",
   "execution_count": 16,
   "metadata": {},
   "outputs": [
    {
     "data": {
      "text/plain": [
       "aggregated taxon\n",
       "Formicidae    0.036+/-0.007\n",
       "Isoptera        0.10+/-0.06\n",
       "Name: Total, dtype: object"
      ]
     },
     "execution_count": 16,
     "metadata": {},
     "output_type": "execute_result"
    }
   ],
   "source": [
    "part2.groupby('aggregated taxon').Total.sum()/1e18"
   ]
  },
  {
   "cell_type": "code",
   "execution_count": 18,
   "metadata": {},
   "outputs": [
    {
     "data": {
      "text/plain": [
       "0.2902956810128281+/-0.07171740599289464"
      ]
     },
     "execution_count": 18,
     "metadata": {},
     "output_type": "execute_result"
    }
   ],
   "source": [
    "total_soil = (part1.Total.sum()+part2.Total.sum())/1e18\n",
    "total_soil"
   ]
  },
  {
   "cell_type": "code",
   "execution_count": 19,
   "metadata": {},
   "outputs": [
    {
     "data": {
      "text/plain": [
       "Boreal Forests/Taiga                0.0121+/-0.0018\n",
       "Temperate Forests                   0.0027+/-0.0007\n",
       "Tropical and Subtropical Forests      0.010+/-0.009\n",
       "Name: Total, dtype: object"
      ]
     },
     "execution_count": 19,
     "metadata": {},
     "output_type": "execute_result"
    }
   ],
   "source": [
    "canopy_biome_mean = canopy_data.groupby(['aggregated biome','site'])['numerical value'].sum().groupby('aggregated biome').agg(['mean','sem'])\n",
    "canopy_biome_mean = canopy_biome_mean.merge(pd.DataFrame(biome_area1),left_index=True,right_index=True)\n",
    "canopy_biome_mean['unp']=unp.uarray(nominal_values=canopy_biome_mean['mean'],std_devs=canopy_biome_mean['sem'])\n",
    "canopy_biome_mean['Total'] = canopy_biome_mean.unp*canopy_biome_mean.area\n",
    "canopy_biome_mean.Total/1e18"
   ]
  },
  {
   "cell_type": "code",
   "execution_count": 20,
   "metadata": {},
   "outputs": [],
   "source": [
    "total_canopy = canopy_biome_mean.Total.sum()/1e18"
   ]
  },
  {
   "cell_type": "code",
   "execution_count": 21,
   "metadata": {},
   "outputs": [
    {
     "data": {
      "text/plain": [
       "Crops                                             0.0079+/-0.0016\n",
       "Pasture                                           0.0004+/-0.0004\n",
       "Temperate Grasslands, Savannas and Shrublands    0.00284532+/-nan\n",
       "Name: Total, dtype: object"
      ]
     },
     "execution_count": 21,
     "metadata": {},
     "output_type": "execute_result"
    }
   ],
   "source": [
    "surface_biome_mean = surface_data.groupby(['aggregated biome','site'])['numerical value'].sum().groupby('aggregated biome').agg(['mean','sem'])\n",
    "surface_biome_mean = surface_biome_mean.merge(pd.DataFrame(biome_area1),left_index=True,right_index=True)\n",
    "surface_biome_mean['unp']=unp.uarray(nominal_values=surface_biome_mean['mean'],std_devs=surface_biome_mean['sem'])\n",
    "surface_biome_mean['Total'] = surface_biome_mean.unp*surface_biome_mean.area\n",
    "surface_biome_mean.Total/1e18"
   ]
  },
  {
   "cell_type": "code",
   "execution_count": 22,
   "metadata": {},
   "outputs": [],
   "source": [
    "total_surface = surface_biome_mean.Total.sum()/1e18"
   ]
  },
  {
   "cell_type": "code",
   "execution_count": 23,
   "metadata": {},
   "outputs": [
    {
     "data": {
      "text/plain": [
       "0.32676189826555413+/-nan"
      ]
     },
     "execution_count": 23,
     "metadata": {},
     "output_type": "execute_result"
    }
   ],
   "source": [
    "total_surface+total_canopy+total_soil"
   ]
  },
  {
   "cell_type": "code",
   "execution_count": 24,
   "metadata": {},
   "outputs": [
    {
     "name": "stdout",
     "output_type": "stream",
     "text": [
      "14\n",
      "18\n"
     ]
    }
   ],
   "source": [
    "print(canopy_data.site.nunique())\n",
    "print(surface_data.site.nunique())"
   ]
  }
 ],
 "metadata": {
  "kernelspec": {
   "display_name": "Python 3",
   "language": "python",
   "name": "python3"
  },
  "language_info": {
   "codemirror_mode": {
    "name": "ipython",
    "version": 3
   },
   "file_extension": ".py",
   "mimetype": "text/x-python",
   "name": "python",
   "nbconvert_exporter": "python",
   "pygments_lexer": "ipython3",
   "version": "3.6.8"
  }
 },
 "nbformat": 4,
 "nbformat_minor": 4
}
