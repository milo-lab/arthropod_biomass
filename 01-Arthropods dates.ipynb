{
 "cells": [
  {
   "cell_type": "code",
   "execution_count": 1,
   "metadata": {},
   "outputs": [
    {
     "name": "stderr",
     "output_type": "stream",
     "text": [
      "/Users/Yuvalr/opt/anaconda3/lib/python3.7/site-packages/statsmodels/tools/_testing.py:19: FutureWarning: pandas.util.testing is deprecated. Use the functions in the public API at pandas.testing instead.\n",
      "  import pandas.util.testing as tm\n"
     ]
    }
   ],
   "source": [
    "import pandas as pd\n",
    "import matplotlib.pyplot as plt\n",
    "import numpy as np\n",
    "%matplotlib inline\n",
    "from uncertainties import unumpy as unp\n",
    "import uncertainties\n",
    "import seaborn as sb\n",
    "import matplotlib.cm as cm\n",
    "import scipy\n",
    "from mpl_toolkits.axes_grid1.inset_locator import inset_axes\n",
    "import datetime\n",
    "\n",
    "from scipy.stats.mstats import gmean"
   ]
  },
  {
   "cell_type": "markdown",
   "metadata": {},
   "source": [
    "### Read data"
   ]
  },
  {
   "cell_type": "code",
   "execution_count": 2,
   "metadata": {},
   "outputs": [
    {
     "name": "stderr",
     "output_type": "stream",
     "text": [
      "/Users/Yuvalr/opt/anaconda3/lib/python3.7/site-packages/openpyxl/worksheet/_reader.py:296: UserWarning: Unknown extension is not supported and will be removed\n",
      "  warn(msg)\n"
     ]
    }
   ],
   "source": [
    "raw_data = pd.read_excel('data/RawData.xlsx') #Read the raw data\n",
    "\n",
    "#Divide into the various taxonomic groups\n",
    "raw_data.loc[raw_data['sub-class']=='Acari','aggregated taxon'] = 'Acari'\n",
    "raw_data.loc[raw_data['sub-class']=='Collembola','aggregated taxon'] = 'Collembola'\n",
    "raw_data.loc[raw_data['super-family']=='Isoptera','aggregated taxon'] = 'Isoptera'\n",
    "raw_data.loc[raw_data['family']=='Formicidae','aggregated taxon'] = 'Formicidae'\n",
    "raw_data.loc[raw_data['aggregated taxon'].isna(),'aggregated taxon'] = 'Other'\n",
    "\n",
    "#combining canopy into above ground habitat\n",
    "raw_data.loc[raw_data['aggregated environment']=='canopy','aggregated environment'] = 'above ground'"
   ]
  },
  {
   "cell_type": "markdown",
   "metadata": {},
   "source": [
    "### Count the number of datapoints of the various types"
   ]
  },
  {
   "cell_type": "code",
   "execution_count": 3,
   "metadata": {},
   "outputs": [
    {
     "name": "stdout",
     "output_type": "stream",
     "text": [
      "Number of unique sites according to units used: \n",
      "units\n",
      "individuals/m^2        325\n",
      "mg/m^2 (dry weight)    275\n",
      "mg/m^2 (wet weight)    115\n",
      "Name: site, dtype: int64\n",
      "\n",
      "Number of unique sites in common to both units systems (poppulation and biomass): \n",
      "219\n",
      "\n",
      "Number of unique sites according to taxonomic group: \n",
      "aggregated taxon\n",
      "Acari         205\n",
      "Collembola    186\n",
      "Formicidae    113\n",
      "Isoptera      144\n",
      "Other         231\n",
      "Name: site, dtype: int64\n"
     ]
    }
   ],
   "source": [
    "print('Number of unique sites according to units used: \\n%s' % raw_data.groupby('units').site.nunique())\n",
    "print('\\nNumber of unique sites in common to both units systems (poppulation and biomass): \\n%s' % raw_data[raw_data.units.str.startswith('ind')].merge(raw_data[raw_data.units.str.startswith('mg')],how='inner',on='site').site.nunique())\n",
    "print('\\nNumber of unique sites according to taxonomic group: \\n%s' % raw_data.groupby('aggregated taxon').site.nunique())"
   ]
  },
  {
   "cell_type": "markdown",
   "metadata": {},
   "source": [
    "### Define functions to derive the sampling years of the datapoints"
   ]
  },
  {
   "cell_type": "code",
   "execution_count": 4,
   "metadata": {},
   "outputs": [
    {
     "name": "stdout",
     "output_type": "stream",
     "text": [
      "Dates range: 1944.0 - 2016.0\n"
     ]
    }
   ],
   "source": [
    "##get the years specified in a reported measurement, element-wise\n",
    "def getYear(x): \n",
    "    if isinstance(x, datetime.datetime) :\n",
    "        return [x.year]\n",
    "    elif isinstance(x, int):\n",
    "        return [x]\n",
    "    elif isinstance(x, str):\n",
    "        x = x.replace(\" \",\"\")\n",
    "        if len(x)<=10 and '/' in x :\n",
    "            d1 = datetime.datetime.strptime(x, '%d/%m/%Y')\n",
    "            return [d1.year]\n",
    "        elif '-' in x and '/' in x :\n",
    "            D = x.split('-',2)\n",
    "            d1 = datetime.datetime.strptime(D[0], '%d/%m/%Y')\n",
    "            d2 = datetime.datetime.strptime(D[1], '%d/%m/%Y')\n",
    "            return np.arange(d1.year,d2.year+1)\n",
    "        elif '-' in x :\n",
    "            D = x.split('-',2)\n",
    "            d1 = datetime.datetime.strptime(D[0], '%Y')\n",
    "            d2 = datetime.datetime.strptime(D[1], '%Y')\n",
    "            return np.arange(d1.year,d2.year+1)\n",
    "        else:\n",
    "            return np.nan\n",
    "    else: \n",
    "        return np.nan \n",
    "\n",
    "## count the sampling years for the various sites in a certain array x:\n",
    "def sum_dates(x): \n",
    "    sites = x['site'].unique() #create a list of the unique sites\n",
    "    dates_per_site = [x[x.loc[:,'site']== site].date for site in sites] #list of dates per each site in the list above\n",
    "    \n",
    "    years = [] #initialise\n",
    "    counts = [] #initialise\n",
    "    for site in dates_per_site: #work site-wise\n",
    "        yrs = [getYear(date) for date in site] #get all years for a single site\n",
    "        yrs_flat = [item for sublist in yrs for item in sublist] #flatten the yrs array\n",
    "        years_tmp, counts_tmp = np.unique(yrs_flat, return_counts=True) #list the sampling years in a certain site\n",
    "        prcnt = counts_tmp/len(yrs_flat) #the percentage it takes of the measurements \n",
    "        years = np.concatenate((years ,years_tmp)) #add to the list of years\n",
    "        counts = np.concatenate((counts ,prcnt)) #add to the list of counts per year\n",
    "\n",
    "    U_years = np.unique(years[years>0]) #list of unique years in the entire array x\n",
    "    U_counts = [np.sum(counts[years==year]) for year in U_years] #list of total number of counts per each year in U_years\n",
    "    return U_years, U_counts\n",
    "\n",
    "#plot the data in a bar plot histogram\n",
    "def PlotBar_av(x,title,letter,ax,Xlabel,Ylabel,Color='#607c8e'):\n",
    "    \n",
    "    years, counts = sum_dates(x)\n",
    "    plt.bar(years, counts, align='center',color=Color)\n",
    "    ax.text(0.05,0.92,letter,ha='center',va='center',fontdict={'size':18},transform = ax.transAxes)\n",
    "    ax.text(0.96,0.96,title,ha='right',va='top',fontdict={'size':18},transform = ax.transAxes)\n",
    "    plt.xlabel(Xlabel, size = 20)\n",
    "    plt.ylabel(Ylabel, size = 20)\n",
    "#    plt.grid(axis='y', alpha=0.5)\n",
    "    plt.xlim([minYear-1,maxYear+1])\n",
    "    plt.ylim([0,45])\n",
    "\n",
    "    \n",
    "def PlotBar_av_2(x,title,letter,ax,Xlabel,Ylabel,Color='#607c8e',legend=False):  #_2 is for the two habitat types\n",
    "\n",
    "    ColH=['#945200','#009B00'] #'#008F00' #38B124\n",
    "    years = x.index\n",
    "    soil = x['soil/litter'].values\n",
    "    above = x['above ground'].values \n",
    "\n",
    "    plt.bar(years, soil, align='center',label = 'Soil', color=Color)\n",
    "    plt.bar(years, above, align='center',label = 'Above Ground', bottom = soil, color=ColH[1])\n",
    "        \n",
    "    ax.text(0.05,0.92,letter,ha='center',va='center',fontdict={'size':18},transform = ax.transAxes)\n",
    "    ax.text(0.96,0.96,title,ha='right',va='top',fontdict={'size':18},transform = ax.transAxes)\n",
    "    plt.xlabel(Xlabel, size = 20)\n",
    "    plt.ylabel(Ylabel, size = 20)\n",
    "#    plt.grid(axis='y', alpha=0.5)\n",
    "    plt.xlim([minYear-1,maxYear+1])\n",
    "    plt.ylim([0,45])\n",
    "    \n",
    "    if legend:\n",
    "        handles, labels = plt.gca().get_legend_handles_labels()\n",
    "        order = [1,0]\n",
    "        plt.legend([handles[idx] for idx in order],[labels[idx] for idx in order],loc='upper right',frameon=False,prop={'size': 12})#loc=[0.007,0.47]\n",
    "    \n",
    "    \n",
    "#extract data for a certain aggregated taxon and environment\n",
    "def taxon_data(x = raw_data, env = 'soil/litter', taxon = 'All'):\n",
    "    if taxon == 'All': #take all taxa\n",
    "        data =  x[(x['aggregated environment']==env)]\n",
    "    else: #take a specific taxonomic group\n",
    "        data = x[(x['aggregated environment']==env) & (x['aggregated taxon']==taxon)]\n",
    "    return data\n",
    "\n",
    "\n",
    "def pd_get_years_data_taxon(x,env,taxon):\n",
    "    data = taxon_data(x, env, taxon)\n",
    "    years, counts = sum_dates(data)\n",
    "    df = pd.DataFrame(counts,index=years.astype(int),columns=[env])\n",
    "    return df\n",
    "\n",
    "def taxon_data_2(taxon): #currently not being used\n",
    "    soil_df = pd_get_years_data_taxon(raw_data,'soil/litter',taxon)\n",
    "    above_df = pd_get_years_data_taxon(raw_data,'above ground',taxon)\n",
    "\n",
    "    all_df = soil_df.reset_index().merge(above_df.reset_index(), how='outer',on='index').set_index('index')\n",
    "    all_df[all_df.isna()]=0\n",
    "    return all_df\n",
    "\n",
    "U_years,_ = sum_dates(raw_data)\n",
    "\n",
    "maxYear = np.max(U_years)\n",
    "minYear = np.min(U_years)\n",
    "\n",
    "print('Dates range: {minYear} - {maxYear}'.format(minYear=minYear, maxYear=maxYear))"
   ]
  },
  {
   "cell_type": "markdown",
   "metadata": {},
   "source": [
    "### Plot the data"
   ]
  },
  {
   "cell_type": "code",
   "execution_count": 5,
   "metadata": {},
   "outputs": [
    {
     "data": {
      "image/png": "[encoded data removed]",
      "text/plain": [
       "<Figure size 1296x648 with 6 Axes>"
      ]
     },
     "metadata": {
      "needs_background": "light"
     },
     "output_type": "display_data"
    }
   ],
   "source": [
    "#plot in soil only (figure S1)\n",
    "plt.rc('xtick', labelsize=16) \n",
    "plt.rc('ytick', labelsize=16)\n",
    "    \n",
    "fig = plt.subplots(2,3,figsize = (18,9))\n",
    "\n",
    "Colors = ['#4285F4','#7CBB00','#FFBB00','#f44336','#9e59b3']\n",
    "ax = plt.subplot(2,3,1)\n",
    "PlotBar_av(taxon_data(taxon = 'Acari'),'Acari','A',ax,'','Number of Studies',Colors[0])\n",
    "ax = plt.subplot(2,3,2)\n",
    "PlotBar_av(taxon_data(taxon = 'Collembola'),'Collembola','B',ax,'','',Colors[1])\n",
    "ax = plt.subplot(2,3,3)\n",
    "PlotBar_av(taxon_data(taxon = 'Isoptera'),'Isoptera','C',ax,'','',Colors[3])\n",
    "ax = plt.subplot(2,3,4)\n",
    "PlotBar_av(taxon_data(taxon = 'Formicidae'),'Formicidae','D',ax,'Sample Year','Number of Studies',Colors[2])\n",
    "ax = plt.subplot(2,3,5)\n",
    "PlotBar_av(taxon_data(taxon = 'Other'),'Others','E',ax,'Sample Year','',Colors[4])\n",
    "ax = plt.subplot(2,3,6)\n",
    "PlotBar_av(taxon_data(taxon = 'All'),'Arthropoda','F',ax,'Sample Year','',Color='#607c8e')\n",
    "\n",
    "plt.savefig('results/figs/S1 - time_comb_SI.pdf',dpi=300,bbox_inches = \"tight\") ##\n",
    "plt.savefig('results/figs/png/S1 - time_comb_SI.png',dpi=300,bbox_inches = \"tight\") ##"
   ]
  },
  {
   "cell_type": "code",
   "execution_count": 6,
   "metadata": {},
   "outputs": [
    {
     "data": {
      "image/png": "[encoded data removed]",
      "text/plain": [
       "<Figure size 432x288 with 1 Axes>"
      ]
     },
     "metadata": {
      "needs_background": "light"
     },
     "output_type": "display_data"
    }
   ],
   "source": [
    "#plot all arthropods in both habitats (figure 1B)\n",
    "soil_df = pd_get_years_data_taxon(raw_data,'soil/litter',taxon='All')\n",
    "above_df = pd_get_years_data_taxon(raw_data,'above ground',taxon='All')\n",
    "\n",
    "all_df = soil_df.reset_index().merge(above_df.reset_index(), how='outer',on='index').set_index('index')\n",
    "\n",
    "fig, ax = plt.subplots()\n",
    "PlotBar_av_2(all_df,'','',ax,'Sample Year','Number of Studies',Color='#945200',legend=True)\n",
    "\n",
    "plt.savefig('results/figs/locations and times/time_comb_all.pdf',dpi=300,bbox_inches = \"tight\") ##"
   ]
  },
  {
   "cell_type": "code",
   "execution_count": 7,
   "metadata": {},
   "outputs": [
    {
     "data": {
      "text/plain": [
       "aggregated environment\n",
       "above ground     54\n",
       "soil/litter     444\n",
       "Name: site, dtype: int64"
      ]
     },
     "execution_count": 7,
     "metadata": {},
     "output_type": "execute_result"
    }
   ],
   "source": [
    "raw_data.groupby('aggregated environment').site.nunique()"
   ]
  },
  {
   "cell_type": "code",
   "execution_count": null,
   "metadata": {},
   "outputs": [],
   "source": []
  }
 ],
 "metadata": {
  "kernelspec": {
   "display_name": "Python 3",
   "language": "python",
   "name": "python3"
  },
  "language_info": {
   "codemirror_mode": {
    "name": "ipython",
    "version": 3
   },
   "file_extension": ".py",
   "mimetype": "text/x-python",
   "name": "python",
   "nbconvert_exporter": "python",
   "pygments_lexer": "ipython3",
   "version": "3.7.4"
  }
 },
 "nbformat": 4,
 "nbformat_minor": 2
}
