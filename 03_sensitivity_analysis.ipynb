{
 "cells": [
  {
   "cell_type": "code",
   "execution_count": 1,
   "metadata": {},
   "outputs": [
    {
     "name": "stderr",
     "output_type": "stream",
     "text": [
      "/Users/Yuvalr/opt/anaconda3/lib/python3.7/site-packages/statsmodels/tools/_testing.py:19: FutureWarning: pandas.util.testing is deprecated. Use the functions in the public API at pandas.testing instead.\n",
      "  import pandas.util.testing as tm\n"
     ]
    }
   ],
   "source": [
    "import pandas as pd\n",
    "import matplotlib.pyplot as plt\n",
    "import numpy as np\n",
    "from uncertainties import unumpy as unp\n",
    "import uncertainties\n",
    "import seaborn as sb\n",
    "import matplotlib.cm as cm\n",
    "import matplotlib.ticker as ticker\n",
    "import scipy\n",
    "from mpl_toolkits.axes_grid1.inset_locator import inset_axes\n",
    "from scipy.stats.mstats import gmean\n",
    "import re\n",
    "import geopandas as gpd\n",
    "from itertools import combinations\n",
    "from scipy.stats import ttest_ind\n",
    "import cartopy.crs as ccrs\n",
    "#import rioxarray\n",
    "#import xarray as xr\n",
    "#import rasterstats as rs\n",
    "#import rasterio as rio\n",
    "#from rasterio.warp import calculate_default_transform, reproject, Resampling"
   ]
  },
  {
   "cell_type": "markdown",
   "metadata": {},
   "source": [
    "## Old analysis"
   ]
  },
  {
   "cell_type": "markdown",
   "metadata": {},
   "source": [
    "1. Read the data"
   ]
  },
  {
   "cell_type": "code",
   "execution_count": 2,
   "metadata": {},
   "outputs": [
    {
     "name": "stderr",
     "output_type": "stream",
     "text": [
      "/Users/Yuvalr/opt/anaconda3/lib/python3.7/site-packages/openpyxl/worksheet/_reader.py:296: UserWarning: Unknown extension is not supported and will be removed\n",
      "  warn(msg)\n"
     ]
    }
   ],
   "source": [
    "raw_data = pd.read_excel('data/RawData.xlsx')\n",
    "#raw_data = raw_data[~raw_data.units.str('trap')]"
   ]
  },
  {
   "cell_type": "markdown",
   "metadata": {},
   "source": [
    "2. Focus on the sites which have competing data: both population (number of individuals) and biomass"
   ]
  },
  {
   "cell_type": "code",
   "execution_count": 3,
   "metadata": {},
   "outputs": [
    {
     "data": {
      "text/plain": [
       "units type\n",
       "individuals    440\n",
       "mg             392\n",
       "Name: site, dtype: int64"
      ]
     },
     "execution_count": 3,
     "metadata": {},
     "output_type": "execute_result"
    }
   ],
   "source": [
    "raw_data.loc[:,'norm value'] = raw_data.loc[:,'numerical value']\n",
    "raw_data.loc[raw_data.units=='mg/m^2 (wet weight)','norm value'] = raw_data.loc[raw_data.units=='mg/m^2 (wet weight)','norm value']*0.3 #convert the wet mass to an effective dry mass, by multiplying by 0.3\n",
    "\n",
    "def unit_type(x):\n",
    "    X=x.partition('/')[0]#[str(xi).partition('/')[0] for xi in x]\n",
    "    return X\n",
    "\n",
    "raw_data=raw_data[~raw_data.units.isna()] #temporary, to eliminate bad lines\n",
    "raw_data.loc[:,'units type'] = raw_data.units.apply(unit_type) #units type distinguishes population to biomass measurements\n",
    "raw_data.groupby('units type').site.nunique()\n"
   ]
  },
  {
   "cell_type": "markdown",
   "metadata": {},
   "source": [
    "3. Remove partial measurements"
   ]
  },
  {
   "cell_type": "code",
   "execution_count": 4,
   "metadata": {},
   "outputs": [],
   "source": [
    "metadata = pd.read_csv('data/groups_per_reference.csv')\n",
    "data_with_meta = raw_data.merge(metadata,left_on='reference', right_on='Paper',how='left')"
   ]
  },
  {
   "cell_type": "code",
   "execution_count": 5,
   "metadata": {},
   "outputs": [],
   "source": [
    "valid_data = data_with_meta.copy()\n",
    "valid_data = valid_data[(valid_data['Standard groups']!='Microarthropods') | ((valid_data['Standard groups']=='Microarthropods') & (valid_data['sub-class'].isin(['Acari','Collembola'])))]"
   ]
  },
  {
   "cell_type": "markdown",
   "metadata": {},
   "source": [
    "4. Classify into groups using \"aggregated taxon\" and \"aggregated environment\""
   ]
  },
  {
   "cell_type": "code",
   "execution_count": 6,
   "metadata": {},
   "outputs": [],
   "source": [
    "valid_data.loc[valid_data['sub-class']=='Acari','aggregated taxon'] = 'Acari'\n",
    "valid_data.loc[valid_data['sub-class']=='Collembola','aggregated taxon'] = 'Collembola'\n",
    "valid_data.loc[valid_data['super-family']=='Isoptera','aggregated taxon'] = 'Isoptera'\n",
    "valid_data.loc[valid_data['family']=='Formicidae','aggregated taxon'] = 'Formicidae'\n",
    "valid_data.loc[valid_data['aggregated taxon'].isna(),'aggregated taxon'] = 'Other'"
   ]
  },
  {
   "cell_type": "code",
   "execution_count": 7,
   "metadata": {},
   "outputs": [],
   "source": [
    "soil_data = valid_data[valid_data['aggregated environment'] =='soil/litter']\n",
    "canopy_data = valid_data[valid_data['aggregated environment'] =='plants']\n",
    "surface_data = valid_data[valid_data['aggregated environment'] =='above ground']"
   ]
  },
  {
   "cell_type": "code",
   "execution_count": 8,
   "metadata": {},
   "outputs": [
    {
     "data": {
      "text/plain": [
       "aggregated biome\n",
       "Boreal Forests/Taiga                                            28\n",
       "Crops                                                           35\n",
       "Deserts and Xeric Shrublands                                    12\n",
       "Mediterranean Forests, Woodlands and Scrub                      21\n",
       "Pasture                                                         41\n",
       "Shrubland/Grassland                                             13\n",
       "Temperate Forests                                               97\n",
       "Temperate Grasslands, Savannas and Shrublands                   38\n",
       "Tropical and Subtropical Forests                                86\n",
       "Tropical and Subtropical Grasslands, Savannas and Shrublands    27\n",
       "Tundra                                                          65\n",
       "Name: site, dtype: int64"
      ]
     },
     "execution_count": 8,
     "metadata": {},
     "output_type": "execute_result"
    }
   ],
   "source": [
    "soil_data.groupby('aggregated biome').site.nunique()#.site.nunique()\n",
    "#surface_data.site.nunique()\n"
   ]
  },
  {
   "cell_type": "markdown",
   "metadata": {},
   "source": [
    "5. Remove measurements with unknown biomes (ants)"
   ]
  },
  {
   "cell_type": "code",
   "execution_count": 9,
   "metadata": {},
   "outputs": [],
   "source": [
    "soil_data = soil_data[soil_data['aggregated biome'] != 'Shrubland/Grassland']#Drop the ants measurements with unknown biomes"
   ]
  },
  {
   "cell_type": "markdown",
   "metadata": {},
   "source": [
    "7. Calculate means"
   ]
  },
  {
   "cell_type": "code",
   "execution_count": 10,
   "metadata": {},
   "outputs": [
    {
     "name": "stderr",
     "output_type": "stream",
     "text": [
      "/Users/Yuvalr/opt/anaconda3/lib/python3.7/site-packages/pandas/core/frame.py:5042: SettingWithCopyWarning: \n",
      "A value is trying to be set on a copy of a slice from a DataFrame\n",
      "\n",
      "See the caveats in the documentation: https://pandas.pydata.org/pandas-docs/stable/user_guide/indexing.html#returning-a-view-versus-a-copy\n",
      "  errors=errors,\n"
     ]
    },
    {
     "data": {
      "text/html": [
       "<div>\n",
       "<style scoped>\n",
       "    .dataframe tbody tr th:only-of-type {\n",
       "        vertical-align: middle;\n",
       "    }\n",
       "\n",
       "    .dataframe tbody tr th {\n",
       "        vertical-align: top;\n",
       "    }\n",
       "\n",
       "    .dataframe thead tr th {\n",
       "        text-align: left;\n",
       "    }\n",
       "\n",
       "    .dataframe thead tr:last-of-type th {\n",
       "        text-align: right;\n",
       "    }\n",
       "</style>\n",
       "<table border=\"1\" class=\"dataframe\">\n",
       "  <thead>\n",
       "    <tr>\n",
       "      <th></th>\n",
       "      <th colspan=\"8\" halign=\"left\">mean</th>\n",
       "      <th colspan=\"8\" halign=\"left\">count</th>\n",
       "    </tr>\n",
       "    <tr>\n",
       "      <th>aggregated biome</th>\n",
       "      <th>Boreal Forests/Taiga</th>\n",
       "      <th>Crops</th>\n",
       "      <th>Pasture</th>\n",
       "      <th>Temperate Forests</th>\n",
       "      <th>Temperate Grasslands, Savannas and Shrublands</th>\n",
       "      <th>Tropical and Subtropical Forests</th>\n",
       "      <th>Tropical and Subtropical Grasslands, Savannas and Shrublands</th>\n",
       "      <th>Tundra</th>\n",
       "      <th>Boreal Forests/Taiga</th>\n",
       "      <th>Crops</th>\n",
       "      <th>Pasture</th>\n",
       "      <th>Temperate Forests</th>\n",
       "      <th>Temperate Grasslands, Savannas and Shrublands</th>\n",
       "      <th>Tropical and Subtropical Forests</th>\n",
       "      <th>Tropical and Subtropical Grasslands, Savannas and Shrublands</th>\n",
       "      <th>Tundra</th>\n",
       "    </tr>\n",
       "    <tr>\n",
       "      <th>aggregated taxon</th>\n",
       "      <th></th>\n",
       "      <th></th>\n",
       "      <th></th>\n",
       "      <th></th>\n",
       "      <th></th>\n",
       "      <th></th>\n",
       "      <th></th>\n",
       "      <th></th>\n",
       "      <th></th>\n",
       "      <th></th>\n",
       "      <th></th>\n",
       "      <th></th>\n",
       "      <th></th>\n",
       "      <th></th>\n",
       "      <th></th>\n",
       "      <th></th>\n",
       "    </tr>\n",
       "  </thead>\n",
       "  <tbody>\n",
       "    <tr>\n",
       "      <th>Acari</th>\n",
       "      <td>0.003206</td>\n",
       "      <td>NaN</td>\n",
       "      <td>NaN</td>\n",
       "      <td>0.015937</td>\n",
       "      <td>0.001764</td>\n",
       "      <td>0.001765</td>\n",
       "      <td>0.002253</td>\n",
       "      <td>0.005766</td>\n",
       "      <td>17.0</td>\n",
       "      <td>NaN</td>\n",
       "      <td>NaN</td>\n",
       "      <td>13.0</td>\n",
       "      <td>3.0</td>\n",
       "      <td>4.0</td>\n",
       "      <td>2.0</td>\n",
       "      <td>48.0</td>\n",
       "    </tr>\n",
       "    <tr>\n",
       "      <th>Collembola</th>\n",
       "      <td>0.004459</td>\n",
       "      <td>NaN</td>\n",
       "      <td>NaN</td>\n",
       "      <td>0.015480</td>\n",
       "      <td>0.002450</td>\n",
       "      <td>0.008673</td>\n",
       "      <td>0.004211</td>\n",
       "      <td>0.006051</td>\n",
       "      <td>17.0</td>\n",
       "      <td>NaN</td>\n",
       "      <td>NaN</td>\n",
       "      <td>13.0</td>\n",
       "      <td>7.0</td>\n",
       "      <td>4.0</td>\n",
       "      <td>2.0</td>\n",
       "      <td>33.0</td>\n",
       "    </tr>\n",
       "    <tr>\n",
       "      <th>Formicidae</th>\n",
       "      <td>NaN</td>\n",
       "      <td>0.343756</td>\n",
       "      <td>0.644897</td>\n",
       "      <td>2.278229</td>\n",
       "      <td>0.548186</td>\n",
       "      <td>0.424516</td>\n",
       "      <td>0.784287</td>\n",
       "      <td>NaN</td>\n",
       "      <td>NaN</td>\n",
       "      <td>6.0</td>\n",
       "      <td>10.0</td>\n",
       "      <td>5.0</td>\n",
       "      <td>4.0</td>\n",
       "      <td>10.0</td>\n",
       "      <td>3.0</td>\n",
       "      <td>NaN</td>\n",
       "    </tr>\n",
       "    <tr>\n",
       "      <th>Isoptera</th>\n",
       "      <td>NaN</td>\n",
       "      <td>0.819060</td>\n",
       "      <td>0.672940</td>\n",
       "      <td>0.680539</td>\n",
       "      <td>0.289569</td>\n",
       "      <td>1.069180</td>\n",
       "      <td>1.665947</td>\n",
       "      <td>NaN</td>\n",
       "      <td>0.0</td>\n",
       "      <td>9.0</td>\n",
       "      <td>16.0</td>\n",
       "      <td>3.0</td>\n",
       "      <td>1.0</td>\n",
       "      <td>32.0</td>\n",
       "      <td>11.0</td>\n",
       "      <td>NaN</td>\n",
       "    </tr>\n",
       "    <tr>\n",
       "      <th>Other</th>\n",
       "      <td>0.345232</td>\n",
       "      <td>2.514433</td>\n",
       "      <td>3.820162</td>\n",
       "      <td>3.269194</td>\n",
       "      <td>3.153510</td>\n",
       "      <td>4.044042</td>\n",
       "      <td>3.133116</td>\n",
       "      <td>1.242991</td>\n",
       "      <td>15.0</td>\n",
       "      <td>7.0</td>\n",
       "      <td>11.0</td>\n",
       "      <td>14.0</td>\n",
       "      <td>11.0</td>\n",
       "      <td>16.0</td>\n",
       "      <td>4.0</td>\n",
       "      <td>13.0</td>\n",
       "    </tr>\n",
       "  </tbody>\n",
       "</table>\n",
       "</div>"
      ],
      "text/plain": [
       "                                 mean                                        \\\n",
       "aggregated biome Boreal Forests/Taiga     Crops   Pasture Temperate Forests   \n",
       "aggregated taxon                                                              \n",
       "Acari                        0.003206       NaN       NaN          0.015937   \n",
       "Collembola                   0.004459       NaN       NaN          0.015480   \n",
       "Formicidae                        NaN  0.343756  0.644897          2.278229   \n",
       "Isoptera                          NaN  0.819060  0.672940          0.680539   \n",
       "Other                        0.345232  2.514433  3.820162          3.269194   \n",
       "\n",
       "                                                                \\\n",
       "aggregated biome Temperate Grasslands, Savannas and Shrublands   \n",
       "aggregated taxon                                                 \n",
       "Acari                                                 0.001764   \n",
       "Collembola                                            0.002450   \n",
       "Formicidae                                            0.548186   \n",
       "Isoptera                                              0.289569   \n",
       "Other                                                 3.153510   \n",
       "\n",
       "                                                   \\\n",
       "aggregated biome Tropical and Subtropical Forests   \n",
       "aggregated taxon                                    \n",
       "Acari                                    0.001765   \n",
       "Collembola                               0.008673   \n",
       "Formicidae                               0.424516   \n",
       "Isoptera                                 1.069180   \n",
       "Other                                    4.044042   \n",
       "\n",
       "                                                                               \\\n",
       "aggregated biome Tropical and Subtropical Grasslands, Savannas and Shrublands   \n",
       "aggregated taxon                                                                \n",
       "Acari                                                      0.002253             \n",
       "Collembola                                                 0.004211             \n",
       "Formicidae                                                 0.784287             \n",
       "Isoptera                                                   1.665947             \n",
       "Other                                                      3.133116             \n",
       "\n",
       "                                          count                \\\n",
       "aggregated biome    Tundra Boreal Forests/Taiga Crops Pasture   \n",
       "aggregated taxon                                                \n",
       "Acari             0.005766                 17.0   NaN     NaN   \n",
       "Collembola        0.006051                 17.0   NaN     NaN   \n",
       "Formicidae             NaN                  NaN   6.0    10.0   \n",
       "Isoptera               NaN                  0.0   9.0    16.0   \n",
       "Other             1.242991                 15.0   7.0    11.0   \n",
       "\n",
       "                                    \\\n",
       "aggregated biome Temperate Forests   \n",
       "aggregated taxon                     \n",
       "Acari                         13.0   \n",
       "Collembola                    13.0   \n",
       "Formicidae                     5.0   \n",
       "Isoptera                       3.0   \n",
       "Other                         14.0   \n",
       "\n",
       "                                                                \\\n",
       "aggregated biome Temperate Grasslands, Savannas and Shrublands   \n",
       "aggregated taxon                                                 \n",
       "Acari                                                      3.0   \n",
       "Collembola                                                 7.0   \n",
       "Formicidae                                                 4.0   \n",
       "Isoptera                                                   1.0   \n",
       "Other                                                     11.0   \n",
       "\n",
       "                                                   \\\n",
       "aggregated biome Tropical and Subtropical Forests   \n",
       "aggregated taxon                                    \n",
       "Acari                                         4.0   \n",
       "Collembola                                    4.0   \n",
       "Formicidae                                   10.0   \n",
       "Isoptera                                     32.0   \n",
       "Other                                        16.0   \n",
       "\n",
       "                                                                               \\\n",
       "aggregated biome Tropical and Subtropical Grasslands, Savannas and Shrublands   \n",
       "aggregated taxon                                                                \n",
       "Acari                                                           2.0             \n",
       "Collembola                                                      2.0             \n",
       "Formicidae                                                      3.0             \n",
       "Isoptera                                                       11.0             \n",
       "Other                                                           4.0             \n",
       "\n",
       "                         \n",
       "aggregated biome Tundra  \n",
       "aggregated taxon         \n",
       "Acari              48.0  \n",
       "Collembola         33.0  \n",
       "Formicidae          NaN  \n",
       "Isoptera            NaN  \n",
       "Other              13.0  "
      ]
     },
     "execution_count": 10,
     "metadata": {},
     "output_type": "execute_result"
    }
   ],
   "source": [
    "#Average the soil data over each taxon in each site, then sum all taxons in each site according to the aggregated groups and data type they are in.\n",
    "soil_site_taxa_mean = soil_data.groupby(['units type','aggregated taxon','aggregated biome','site','taxon'])['norm value'].mean().reset_index()\n",
    "soil_site_data = soil_site_taxa_mean.groupby(['units type','aggregated taxon','aggregated biome','site'])['norm value'].sum().reset_index()\n",
    "#soil_site_data = soil_site_taxa_mean.groupby(['units type','aggregated taxon','aggregated biome','site'])['norm value'].sum().reset_index()\n",
    "\n",
    "#Divide into the two types of measurements\n",
    "soil_site_data_pop = soil_site_data[soil_site_data['units type']=='individuals']\n",
    "soil_site_data_pop.rename(columns={'norm value': 'population density'}, inplace=True)\n",
    "\n",
    "soil_site_data_mass = soil_site_data[soil_site_data['units type']=='mg']\n",
    "soil_site_data_mass.rename(columns={'norm value': 'mass density'}, inplace=True)\n",
    "\n",
    "#Construct a new dataframe, where we keep only the sites with both measurement types\n",
    "soil_site_data_comb = pd.merge( soil_site_data_pop, soil_site_data_mass, on=[\"aggregated taxon\",\"aggregated biome\",\"site\"], how=\"inner\", validate=\"one_to_one\" )\n",
    "\n",
    "#calculate the mass of an individual per site, in units of mg/ind\n",
    "soil_site_data_comb.loc[:,'ind mass']=soil_site_data_comb.loc[:,'mass density']/soil_site_data_comb.loc[:,'population density']\n",
    "\n",
    "soil_site_data_comb.pivot_table(index='aggregated taxon',columns='aggregated biome',values='ind mass', aggfunc=['mean','count'])\n",
    "#soil_site_data_comb = soil_site_data_comb.unstack().reset_index().pivot_table(index='aggregated taxon', columns=['aggregated biome','level_0'],values=0,aggfunc=sum)\n",
    "#soil_site_data_comb.columns = soil_site_data_comb.columns.set_levels(['Mean','N'],1)"
   ]
  },
  {
   "cell_type": "code",
   "execution_count": 11,
   "metadata": {},
   "outputs": [
    {
     "data": {
      "text/html": [
       "<div>\n",
       "<style scoped>\n",
       "    .dataframe tbody tr th:only-of-type {\n",
       "        vertical-align: middle;\n",
       "    }\n",
       "\n",
       "    .dataframe tbody tr th {\n",
       "        vertical-align: top;\n",
       "    }\n",
       "\n",
       "    .dataframe thead th {\n",
       "        text-align: right;\n",
       "    }\n",
       "</style>\n",
       "<table border=\"1\" class=\"dataframe\">\n",
       "  <thead>\n",
       "    <tr style=\"text-align: right;\">\n",
       "      <th></th>\n",
       "      <th>Boreal Forests/Taiga</th>\n",
       "      <th>Crops</th>\n",
       "      <th>Pasture</th>\n",
       "      <th>Temperate Forests</th>\n",
       "      <th>Temperate Grasslands, Savannas and Shrublands</th>\n",
       "      <th>Tropical and Subtropical Forests</th>\n",
       "      <th>Tropical and Subtropical Grasslands, Savannas and Shrublands</th>\n",
       "      <th>Tundra</th>\n",
       "      <th>Total average (mg/ind)</th>\n",
       "      <th>Deserts and Xeric Shrublands</th>\n",
       "      <th>Mediterranean Forests, Woodlands and Scrub</th>\n",
       "    </tr>\n",
       "    <tr>\n",
       "      <th>aggregated taxon</th>\n",
       "      <th></th>\n",
       "      <th></th>\n",
       "      <th></th>\n",
       "      <th></th>\n",
       "      <th></th>\n",
       "      <th></th>\n",
       "      <th></th>\n",
       "      <th></th>\n",
       "      <th></th>\n",
       "      <th></th>\n",
       "      <th></th>\n",
       "    </tr>\n",
       "  </thead>\n",
       "  <tbody>\n",
       "    <tr>\n",
       "      <th>Acari</th>\n",
       "      <td>2.90e-03</td>\n",
       "      <td>4.72e-03</td>\n",
       "      <td>4.72e-03</td>\n",
       "      <td>8.40e-03</td>\n",
       "      <td>1.76e-03</td>\n",
       "      <td>1.77e-03</td>\n",
       "      <td>2.25e-03</td>\n",
       "      <td>4.95e-03</td>\n",
       "      <td>4.72e-03</td>\n",
       "      <td>4.72e-03</td>\n",
       "      <td>4.72e-03</td>\n",
       "    </tr>\n",
       "    <tr>\n",
       "      <th>Collembola</th>\n",
       "      <td>4.17e-03</td>\n",
       "      <td>5.58e-03</td>\n",
       "      <td>5.58e-03</td>\n",
       "      <td>9.67e-03</td>\n",
       "      <td>2.45e-03</td>\n",
       "      <td>8.67e-03</td>\n",
       "      <td>4.21e-03</td>\n",
       "      <td>5.12e-03</td>\n",
       "      <td>5.58e-03</td>\n",
       "      <td>5.58e-03</td>\n",
       "      <td>5.58e-03</td>\n",
       "    </tr>\n",
       "    <tr>\n",
       "      <th>Formicidae</th>\n",
       "      <td>6.98e-01</td>\n",
       "      <td>1.28e-01</td>\n",
       "      <td>6.45e-01</td>\n",
       "      <td>2.28e+00</td>\n",
       "      <td>5.48e-01</td>\n",
       "      <td>2.34e-01</td>\n",
       "      <td>7.84e-01</td>\n",
       "      <td>6.98e-01</td>\n",
       "      <td>6.98e-01</td>\n",
       "      <td>6.98e-01</td>\n",
       "      <td>6.98e-01</td>\n",
       "    </tr>\n",
       "    <tr>\n",
       "      <th>Isoptera</th>\n",
       "      <td>7.63e-01</td>\n",
       "      <td>8.19e-01</td>\n",
       "      <td>6.17e-01</td>\n",
       "      <td>6.81e-01</td>\n",
       "      <td>2.90e-01</td>\n",
       "      <td>7.95e-01</td>\n",
       "      <td>9.14e-01</td>\n",
       "      <td>7.63e-01</td>\n",
       "      <td>7.63e-01</td>\n",
       "      <td>7.63e-01</td>\n",
       "      <td>7.63e-01</td>\n",
       "    </tr>\n",
       "    <tr>\n",
       "      <th>Other</th>\n",
       "      <td>3.02e-01</td>\n",
       "      <td>2.51e+00</td>\n",
       "      <td>3.82e+00</td>\n",
       "      <td>1.52e+00</td>\n",
       "      <td>2.35e+00</td>\n",
       "      <td>2.62e+00</td>\n",
       "      <td>3.13e+00</td>\n",
       "      <td>2.87e-01</td>\n",
       "      <td>1.88e+00</td>\n",
       "      <td>1.88e+00</td>\n",
       "      <td>1.88e+00</td>\n",
       "    </tr>\n",
       "  </tbody>\n",
       "</table>\n",
       "</div>"
      ],
      "text/plain": [
       "                 Boreal Forests/Taiga     Crops   Pasture Temperate Forests  \\\n",
       "aggregated taxon                                                              \n",
       "Acari                        2.90e-03  4.72e-03  4.72e-03          8.40e-03   \n",
       "Collembola                   4.17e-03  5.58e-03  5.58e-03          9.67e-03   \n",
       "Formicidae                   6.98e-01  1.28e-01  6.45e-01          2.28e+00   \n",
       "Isoptera                     7.63e-01  8.19e-01  6.17e-01          6.81e-01   \n",
       "Other                        3.02e-01  2.51e+00  3.82e+00          1.52e+00   \n",
       "\n",
       "                 Temperate Grasslands, Savannas and Shrublands  \\\n",
       "aggregated taxon                                                 \n",
       "Acari                                                 1.76e-03   \n",
       "Collembola                                            2.45e-03   \n",
       "Formicidae                                            5.48e-01   \n",
       "Isoptera                                              2.90e-01   \n",
       "Other                                                 2.35e+00   \n",
       "\n",
       "                 Tropical and Subtropical Forests  \\\n",
       "aggregated taxon                                    \n",
       "Acari                                    1.77e-03   \n",
       "Collembola                               8.67e-03   \n",
       "Formicidae                               2.34e-01   \n",
       "Isoptera                                 7.95e-01   \n",
       "Other                                    2.62e+00   \n",
       "\n",
       "                 Tropical and Subtropical Grasslands, Savannas and Shrublands  \\\n",
       "aggregated taxon                                                                \n",
       "Acari                                                      2.25e-03             \n",
       "Collembola                                                 4.21e-03             \n",
       "Formicidae                                                 7.84e-01             \n",
       "Isoptera                                                   9.14e-01             \n",
       "Other                                                      3.13e+00             \n",
       "\n",
       "                    Tundra Total average (mg/ind)  \\\n",
       "aggregated taxon                                    \n",
       "Acari             4.95e-03               4.72e-03   \n",
       "Collembola        5.12e-03               5.58e-03   \n",
       "Formicidae        6.98e-01               6.98e-01   \n",
       "Isoptera          7.63e-01               7.63e-01   \n",
       "Other             2.87e-01               1.88e+00   \n",
       "\n",
       "                 Deserts and Xeric Shrublands  \\\n",
       "aggregated taxon                                \n",
       "Acari                                4.72e-03   \n",
       "Collembola                           5.58e-03   \n",
       "Formicidae                           6.98e-01   \n",
       "Isoptera                             7.63e-01   \n",
       "Other                                1.88e+00   \n",
       "\n",
       "                 Mediterranean Forests, Woodlands and Scrub  \n",
       "aggregated taxon                                             \n",
       "Acari                                              4.72e-03  \n",
       "Collembola                                         5.58e-03  \n",
       "Formicidae                                         6.98e-01  \n",
       "Isoptera                                           7.63e-01  \n",
       "Other                                              1.88e+00  "
      ]
     },
     "execution_count": 11,
     "metadata": {},
     "output_type": "execute_result"
    }
   ],
   "source": [
    "def filter_outliers(x):\n",
    "    if len(x)>3:\n",
    "        STD=x.std()\n",
    "        Mean=np.mean(x)\n",
    "        x = x[x<(Mean+2*STD)]\n",
    "        x = x[x>(Mean-2*STD)]\n",
    "    return x\n",
    "\n",
    "soil_ratio_filt = soil_site_data_comb.groupby(['aggregated taxon','aggregated biome'])['ind mass'].apply(filter_outliers)\n",
    "soil_ratio_filt_full = soil_ratio_filt.reset_index().pivot_table(index='aggregated taxon',columns='aggregated biome',values='ind mass', aggfunc='mean')\n",
    "soil_ratio_filt_total = soil_ratio_filt.reset_index().groupby('aggregated taxon')['ind mass'].mean()\n",
    "soil_ratio_filt_full = pd.merge(soil_ratio_filt_full, soil_ratio_filt_total,on=\"aggregated taxon\", how=\"inner\", validate=\"one_to_one\" )\n",
    "\n",
    "soil_ratio_filt_full.rename(columns={'ind mass': 'Total average (mg/ind)'}, inplace=True)\n",
    "\n",
    "#fill in the nans with the global averages\n",
    "for clm in soil_ratio_filt_full.columns:\n",
    "    soil_ratio_filt_full.loc[soil_ratio_filt_full[clm].isnull(),clm] = soil_ratio_filt_full['Total average (mg/ind)']\n",
    "\n",
    "biomes = soil_site_data_pop.loc[:,'aggregated biome'].unique()\n",
    "\n",
    "for biom in biomes: \n",
    "    if biom not in soil_ratio_filt_full.columns:\n",
    "        soil_ratio_filt_full.loc[:,biom] = soil_ratio_filt_full.loc[:,'Total average (mg/ind)']\n",
    "        \n",
    "# soil_ratio_filt_full.to_csv('results/average_ind_mass_full.csv')##       \n",
    "\n",
    "def print_ratio(x):\n",
    "    return '{:.2e}'.format(x)\n",
    "\n",
    "soil_ratio_filt_print = soil_ratio_filt_full.applymap(print_ratio)\n",
    "#soil_ratio_filt_print.to_csv('results/table_average_ind_mass.csv')##\n",
    "\n",
    "#soil_ratio_filt_pd = soil_ratio_filt.reset_index().groupby([\"aggregated taxon\",\"aggregated biome\"]).mean()['ind mass'].reset_index()\n",
    "#soil_ratio_filt_pd = soil_ratio_filt.reset_index().groupby([\"aggregated taxon\",\"aggregated biome\"]).mean().drop(columns='level_2')\n",
    "#soil_ratio_filt_pd.to_csv('results/pd_average_ind_mass.csv')##\n",
    "\n",
    "\n",
    "#soil_ratio_filt_print\n",
    "soil_ratio_filt_full.applymap(print_ratio)\n",
    "\n"
   ]
  },
  {
   "cell_type": "code",
   "execution_count": 12,
   "metadata": {},
   "outputs": [],
   "source": [
    "#find the measurements where only population data is available\n",
    "cond1 = soil_site_data_pop['site'].isin(soil_site_data_comb['site'])\n",
    "cond2 = soil_site_data_pop['population density'].isin(soil_site_data_comb['population density'])\n",
    "soil_site_data_pop_pure = soil_site_data_pop.drop(soil_site_data_pop[cond1 & cond2].index )#measurements with only population measurements, and no mass measurements, based on site name and numerical value"
   ]
  },
  {
   "cell_type": "code",
   "execution_count": 13,
   "metadata": {},
   "outputs": [],
   "source": [
    "#convert population to effective mass\n",
    "soil_site_data_pop_pure.loc[:,'eff. mass_B'] = np.nan # eff. mass_B will use taxon and biome level average mass of individual\n",
    "soil_site_data_pop_pure.loc[:,'eff. mass_G'] = np.nan # eff. mass_G will use global average for each taxon\n",
    "for ii in soil_site_data_pop_pure.index:\n",
    "    if soil_site_data_pop_pure.loc[ii,'aggregated taxon'] != 'Other':\n",
    "        soil_site_data_pop_pure.loc[ii,'eff. mass_B'] = soil_site_data_pop_pure.loc[ii,'population density']* soil_ratio_filt_full.loc[soil_site_data_pop_pure.loc[ii,'aggregated taxon'],soil_site_data_pop_pure.loc[ii,'aggregated biome']]\n",
    "        soil_site_data_pop_pure.loc[ii,'eff. mass_G'] = soil_site_data_pop_pure.loc[ii,'population density']* soil_ratio_filt_full.loc[soil_site_data_pop_pure.loc[ii,'aggregated taxon'],'Total average (mg/ind)']\n",
    "\n",
    "#contains all the measurements, converted into mass\n",
    "soil_site_data_mass_all = pd.merge(soil_site_data_mass,soil_site_data_pop_pure,on=[\"aggregated taxon\",\"aggregated biome\",\"site\"], how=\"outer\")\n",
    "#mass_B/G columns are a combination of the measured mass with the effective mass where no direct measurement is given (_B and _G are for biome level or global level)\n",
    "indx_mass = ~np.isnan(soil_site_data_mass_all.loc[:,'mass density']) #index of the mass measurements\n",
    "\n",
    "soil_site_data_mass_all.loc[:,'mass_B'] = np.nan\n",
    "soil_site_data_mass_all.loc[:,'mass_G'] = np.nan\n",
    "soil_site_data_mass_all.loc[indx_mass,'mass_B'] = soil_site_data_mass_all.loc[indx_mass,'mass density']\n",
    "soil_site_data_mass_all.loc[~indx_mass,'mass_B'] = soil_site_data_mass_all.loc[~indx_mass,'eff. mass_B']\n",
    "soil_site_data_mass_all.loc[indx_mass,'mass_G'] = soil_site_data_mass_all.loc[indx_mass,'mass density']\n",
    "soil_site_data_mass_all.loc[~indx_mass,'mass_G'] = soil_site_data_mass_all.loc[~indx_mass,'eff. mass_G']\n",
    "\n",
    "soil_site_data_mass_all = soil_site_data_mass_all[~np.isnan(soil_site_data_mass_all.loc[:,'mass_G'])] # remove measurements of \"other\" taxa, and where there is no direct biomass measurement\n",
    "#indx_pop_other = np.isnan(soil_site_data_mass_all.loc[:,'mass_G']) #index of measurements of \"other\" taxa, and where there is no direct biomass measurement\n",
    "\n",
    "#soil_site_data_mass_all.groupby([\"aggregated biome\",\"aggregated taxon\"]).count()"
   ]
  },
  {
   "cell_type": "markdown",
   "metadata": {},
   "source": [
    "## Sensitiity analysis - look at the variability between biogeographical realms in the same biome"
   ]
  },
  {
   "cell_type": "code",
   "execution_count": 14,
   "metadata": {},
   "outputs": [
    {
     "name": "stderr",
     "output_type": "stream",
     "text": [
      "/Users/Yuvalr/opt/anaconda3/lib/python3.7/site-packages/openpyxl/worksheet/_reader.py:296: UserWarning: Unknown extension is not supported and will be removed\n",
      "  warn(msg)\n"
     ]
    }
   ],
   "source": [
    "# load processed site data\n",
    "soil_site_data_mass_all = pd.read_csv('results/processed_site_data_mean.csv',index_col=0)\n",
    "soil_site_data_mass_all_std = pd.read_csv('results/processed_site_data_std.csv',index_col=0)\n",
    "raw_data = pd.read_excel('data/RawData.xlsx')\n",
    "raw_data.loc[:,'norm value'] = raw_data.loc[:,'numerical value']\n",
    "raw_data.loc[raw_data.units=='mg/m^2 (wet weight)','norm value'] = raw_data.loc[raw_data.units=='mg/m^2 (wet weight)','norm value']*0.3 #convert the wet mass to an effective dry mass, by multiplying by 0.3\n",
    "\n",
    "def unit_type(x):\n",
    "    X=x.partition('/')[0]#[str(xi).partition('/')[0] for xi in x]\n",
    "    return X\n",
    "\n",
    "raw_data=raw_data[~raw_data.units.isna()] #temporary, to eliminate bad lines\n",
    "raw_data.loc[:,'units type'] = raw_data.units.apply(unit_type) #units type distinguishes population to biomass measurements\n"
   ]
  },
  {
   "cell_type": "code",
   "execution_count": 15,
   "metadata": {},
   "outputs": [],
   "source": [
    "def parse_latlon(s):\n",
    "    ''' Parse a string s which contains either a longitude or a latitude and convert it into Degree Minute Second vector'''\n",
    "    \n",
    "    if len(s.split('°')) >1:\n",
    "        deg = s.split('°')[0]\n",
    "        rest = s.split('°')[1].strip()\n",
    "        if len(rest.split(\"''\"))>1:\n",
    "            rest = rest.split(\"''\")[0].split(\"'\")\n",
    "            minute = rest[0]\n",
    "            sec = rest[1]\n",
    "            return [deg,minute,sec]\n",
    "        elif len(rest.split('\"'))>1:\n",
    "            rest = rest.split('\"')[0].split(\"'\")\n",
    "            minute = rest[0]\n",
    "            sec = rest[1]\n",
    "            return [float(deg),float(minute),float(sec)]\n",
    "        elif len(rest.split(\"'\"))>1:\n",
    "            minute = rest.split(\"'\")[0]\n",
    "            return [float(deg),float(minute),None]\n",
    "        elif len(rest) == 0:\n",
    "            return [float(deg),None,None]\n",
    "\n",
    "\n",
    "def dms_to_dd(data):\n",
    "    ''' Converts Degree Minute Second vector into Decimal Degrees coordinates'''\n",
    "    \n",
    "    return pd.Series(np.nansum([data['degrees'],np.sign(data['degrees'])*data['minutes']/60.,np.sign(data['degrees'])*data['seconds']/3600],axis=0),index=['lat','lon'])\n",
    "\n",
    "def convert(s):\n",
    "    ''' Convert a coordinate string s into a pandas Series of latitude and longitude in Decimal Degrees format'''\n",
    "    try:\n",
    "        pat = \"^,*\\s*\"\n",
    "        p = re.compile(pat)\n",
    "        if len(s.split('N'))>1:\n",
    "            latstr = s.split('N')[0]\n",
    "            lonstr = re.sub(p,'',s.split('N')[1])\n",
    "        elif len(s.split('S'))>1:\n",
    "            latstr = s.split('S')[0]\n",
    "            lonstr = re.sub(p,'',s.split('S')[1])\n",
    "            latstr = '-'+latstr\n",
    "        else:\n",
    "             return None   \n",
    "        if lonstr.find('W') != -1:\n",
    "            lonstr = '-'+lonstr\n",
    "        lonstr = lonstr.split('E')[0]\n",
    "        lonstr = lonstr.split('W')[0]\n",
    "\n",
    "        lat = np.array(parse_latlon(latstr))\n",
    "        lon = np.array(parse_latlon(lonstr))\n",
    "        res = dms_to_dd(pd.DataFrame([lat,lon],columns=['degrees','minutes','seconds']).astype(float))\n",
    "    except Exception as e:\n",
    "        res = 'error'\n",
    "        return pd.Series([res,res],index=['lat','lon'])\n",
    "    return res"
   ]
  },
  {
   "cell_type": "code",
   "execution_count": 16,
   "metadata": {},
   "outputs": [
    {
     "name": "stderr",
     "output_type": "stream",
     "text": [
      "/Users/Yuvalr/opt/anaconda3/lib/python3.7/site-packages/pandas/core/frame.py:3636: SettingWithCopyWarning: \n",
      "A value is trying to be set on a copy of a slice from a DataFrame.\n",
      "Try using .loc[row_indexer,col_indexer] = value instead\n",
      "\n",
      "See the caveats in the documentation: https://pandas.pydata.org/pandas-docs/stable/user_guide/indexing.html#returning-a-view-versus-a-copy\n",
      "  self[k1] = value[k2]\n"
     ]
    }
   ],
   "source": [
    "soil_site_data_mass_all_coord = soil_site_data_mass_all.merge(raw_data[~raw_data.duplicated(['site','coordinates','synthetic coordinates','country'])][['site','synthetic coordinates','coordinates','country']],on='site')\n",
    "soil_site_data_mass_all_coord['harmonized_coordinates'] = soil_site_data_mass_all_coord['coordinates']\n",
    "soil_site_data_mass_all_coord.loc[~soil_site_data_mass_all_coord['synthetic coordinates'].isna(),'harmonized_coordinates'] = soil_site_data_mass_all_coord.loc[~soil_site_data_mass_all_coord['synthetic coordinates'].isna(),'synthetic coordinates'] #Merge\n",
    "\n",
    "#site_locations = data.loc[:,['site','coordinates']].drop_duplicates()\n",
    "site_locations = soil_site_data_mass_all_coord.loc[:,['site','harmonized_coordinates','aggregated taxon']].drop_duplicates()\n",
    "site_with_coords = site_locations[(~site_locations.harmonized_coordinates.isna()) & (site_locations.harmonized_coordinates != 0)]\n",
    "site_with_coords[['lat','lon']] = site_with_coords.loc[:,'harmonized_coordinates'].apply(convert)\n",
    "site_with_coords = site_with_coords[site_with_coords.lat!='error']"
   ]
  },
  {
   "cell_type": "code",
   "execution_count": 17,
   "metadata": {},
   "outputs": [],
   "source": [
    "biogeo_realms = gpd.read_file('data/terr_eco_regions/tnc_terr_ecoregions.shp')"
   ]
  },
  {
   "cell_type": "code",
   "execution_count": 18,
   "metadata": {},
   "outputs": [],
   "source": [
    "site_with_coords_gpd = gpd.GeoDataFrame(site_with_coords, geometry=gpd.points_from_xy(site_with_coords.lon,site_with_coords.lat))\n",
    "site_with_coords_gpd.crs = biogeo_realms.crs\n",
    "site_with_coords_gpd = gpd.tools.sjoin(site_with_coords_gpd,biogeo_realms)\n",
    "site_with_coords_gpd = site_with_coords_gpd.drop('index_right',axis=1)\n",
    "world = gpd.read_file(gpd.datasets.get_path('naturalearth_lowres'))\n",
    "\n",
    "site_with_coords_gpd = gpd.tools.sjoin(site_with_coords_gpd,world.dissolve('continent').reset_index(),how='left')"
   ]
  },
  {
   "cell_type": "code",
   "execution_count": 19,
   "metadata": {},
   "outputs": [],
   "source": [
    "soil_site_data_mass_all_realm = soil_site_data_mass_all.merge(site_with_coords_gpd[['site','WWF_REALM2']],on='site')\n",
    "soil_site_data_mass_all_std_realm = soil_site_data_mass_all_std.merge(site_with_coords_gpd[['site','WWF_REALM2']],on='site')"
   ]
  },
  {
   "cell_type": "code",
   "execution_count": 20,
   "metadata": {},
   "outputs": [
    {
     "data": {
      "text/plain": [
       "continent\n",
       "Africa            60\n",
       "Asia              48\n",
       "Europe           101\n",
       "North America    109\n",
       "Oceania           12\n",
       "South America     37\n",
       "Name: site, dtype: int64"
      ]
     },
     "execution_count": 20,
     "metadata": {},
     "output_type": "execute_result"
    }
   ],
   "source": [
    "\n",
    "site_with_coords_gpd.groupby('continent').site.nunique()\n"
   ]
  },
  {
   "cell_type": "code",
   "execution_count": 21,
   "metadata": {},
   "outputs": [],
   "source": [
    "site_biome_realm_counts = soil_site_data_mass_all_realm.groupby(['aggregated taxon','aggregated biome','WWF_REALM2']).site.nunique()\n",
    "taxa_biome_for_analysis = site_biome_realm_counts[site_biome_realm_counts>=10].groupby(['aggregated taxon','aggregated biome']).count()\n",
    "taxa_biome_for_analysis = taxa_biome_for_analysis[taxa_biome_for_analysis>1]"
   ]
  },
  {
   "cell_type": "markdown",
   "metadata": {},
   "source": [
    "### T-test analysis comparing the mean biomass density of the samples within the realm to other realms in the biome"
   ]
  },
  {
   "cell_type": "code",
   "execution_count": 22,
   "metadata": {},
   "outputs": [],
   "source": [
    "sen_analysis_res = pd.DataFrame()\n",
    "\n",
    "def ttest_run(c1, c2,df,index,measure='mass_B'):\n",
    "    results = ttest_ind(np.log(df.loc[df.WWF_REALM2==c1,measure]), np.log(df.loc[df.WWF_REALM2==c2,measure]))\n",
    "    res = pd.DataFrame({'categ1': c1,\n",
    "                       'categ2': c2,\n",
    "                       'tstat': results.statistic,\n",
    "                       'pvalue': results.pvalue}, \n",
    "                       index = pd.MultiIndex.from_tuples([i]))    \n",
    "    return res\n",
    "\n",
    "for i, row in taxa_biome_for_analysis.iteritems():\n",
    "    df = soil_site_data_mass_all_realm[(soil_site_data_mass_all_realm['aggregated taxon']==i[0]) & (soil_site_data_mass_all_realm['aggregated biome']==i[1])]\n",
    "    df_list = [ttest_run(k, j,df,i) for k, j in combinations(df.WWF_REALM2.unique().tolist(), 2)]\n",
    "    sen_analysis_res = sen_analysis_res.append(pd.concat(df_list))"
   ]
  },
  {
   "cell_type": "code",
   "execution_count": 23,
   "metadata": {},
   "outputs": [
    {
     "data": {
      "text/html": [
       "<div>\n",
       "<style scoped>\n",
       "    .dataframe tbody tr th:only-of-type {\n",
       "        vertical-align: middle;\n",
       "    }\n",
       "\n",
       "    .dataframe tbody tr th {\n",
       "        vertical-align: top;\n",
       "    }\n",
       "\n",
       "    .dataframe thead th {\n",
       "        text-align: right;\n",
       "    }\n",
       "</style>\n",
       "<table border=\"1\" class=\"dataframe\">\n",
       "  <thead>\n",
       "    <tr style=\"text-align: right;\">\n",
       "      <th></th>\n",
       "      <th></th>\n",
       "      <th>categ1</th>\n",
       "      <th>categ2</th>\n",
       "      <th>tstat</th>\n",
       "      <th>pvalue</th>\n",
       "    </tr>\n",
       "  </thead>\n",
       "  <tbody>\n",
       "    <tr>\n",
       "      <th rowspan=\"4\" valign=\"top\">Acari</th>\n",
       "      <th>Temperate Forests</th>\n",
       "      <td>Palearctic</td>\n",
       "      <td>Nearctic</td>\n",
       "      <td>-2.886879</td>\n",
       "      <td>4.591577e-03</td>\n",
       "    </tr>\n",
       "    <tr>\n",
       "      <th>Tundra</th>\n",
       "      <td>Nearctic</td>\n",
       "      <td>Palearctic</td>\n",
       "      <td>-6.875559</td>\n",
       "      <td>1.770679e-09</td>\n",
       "    </tr>\n",
       "    <tr>\n",
       "      <th>Tundra</th>\n",
       "      <td>Nearctic</td>\n",
       "      <td>Antarctic</td>\n",
       "      <td>0.923109</td>\n",
       "      <td>3.604739e-01</td>\n",
       "    </tr>\n",
       "    <tr>\n",
       "      <th>Tundra</th>\n",
       "      <td>Palearctic</td>\n",
       "      <td>Antarctic</td>\n",
       "      <td>4.124744</td>\n",
       "      <td>1.538747e-04</td>\n",
       "    </tr>\n",
       "    <tr>\n",
       "      <th>Collembola</th>\n",
       "      <th>Temperate Forests</th>\n",
       "      <td>Palearctic</td>\n",
       "      <td>Nearctic</td>\n",
       "      <td>0.232392</td>\n",
       "      <td>8.166198e-01</td>\n",
       "    </tr>\n",
       "    <tr>\n",
       "      <th rowspan=\"6\" valign=\"top\">Isoptera</th>\n",
       "      <th>Crops</th>\n",
       "      <td>Indo-Malay</td>\n",
       "      <td>Neotropic</td>\n",
       "      <td>-0.554866</td>\n",
       "      <td>5.829680e-01</td>\n",
       "    </tr>\n",
       "    <tr>\n",
       "      <th>Crops</th>\n",
       "      <td>Indo-Malay</td>\n",
       "      <td>Afrotropic</td>\n",
       "      <td>-1.383649</td>\n",
       "      <td>1.867119e-01</td>\n",
       "    </tr>\n",
       "    <tr>\n",
       "      <th>Crops</th>\n",
       "      <td>Neotropic</td>\n",
       "      <td>Afrotropic</td>\n",
       "      <td>-1.377901</td>\n",
       "      <td>1.767391e-01</td>\n",
       "    </tr>\n",
       "    <tr>\n",
       "      <th>Tropical and Subtropical Forests</th>\n",
       "      <td>Afrotropic</td>\n",
       "      <td>Neotropic</td>\n",
       "      <td>2.184353</td>\n",
       "      <td>3.233720e-02</td>\n",
       "    </tr>\n",
       "    <tr>\n",
       "      <th>Tropical and Subtropical Forests</th>\n",
       "      <td>Afrotropic</td>\n",
       "      <td>Indo-Malay</td>\n",
       "      <td>-0.379681</td>\n",
       "      <td>7.055005e-01</td>\n",
       "    </tr>\n",
       "    <tr>\n",
       "      <th>Tropical and Subtropical Forests</th>\n",
       "      <td>Neotropic</td>\n",
       "      <td>Indo-Malay</td>\n",
       "      <td>-3.047958</td>\n",
       "      <td>3.220941e-03</td>\n",
       "    </tr>\n",
       "  </tbody>\n",
       "</table>\n",
       "</div>"
      ],
      "text/plain": [
       "                                                 categ1      categ2     tstat  \\\n",
       "Acari      Temperate Forests                 Palearctic    Nearctic -2.886879   \n",
       "           Tundra                              Nearctic  Palearctic -6.875559   \n",
       "           Tundra                              Nearctic   Antarctic  0.923109   \n",
       "           Tundra                            Palearctic   Antarctic  4.124744   \n",
       "Collembola Temperate Forests                 Palearctic    Nearctic  0.232392   \n",
       "Isoptera   Crops                             Indo-Malay   Neotropic -0.554866   \n",
       "           Crops                             Indo-Malay  Afrotropic -1.383649   \n",
       "           Crops                              Neotropic  Afrotropic -1.377901   \n",
       "           Tropical and Subtropical Forests  Afrotropic   Neotropic  2.184353   \n",
       "           Tropical and Subtropical Forests  Afrotropic  Indo-Malay -0.379681   \n",
       "           Tropical and Subtropical Forests   Neotropic  Indo-Malay -3.047958   \n",
       "\n",
       "                                                   pvalue  \n",
       "Acari      Temperate Forests                 4.591577e-03  \n",
       "           Tundra                            1.770679e-09  \n",
       "           Tundra                            3.604739e-01  \n",
       "           Tundra                            1.538747e-04  \n",
       "Collembola Temperate Forests                 8.166198e-01  \n",
       "Isoptera   Crops                             5.829680e-01  \n",
       "           Crops                             1.867119e-01  \n",
       "           Crops                             1.767391e-01  \n",
       "           Tropical and Subtropical Forests  3.233720e-02  \n",
       "           Tropical and Subtropical Forests  7.055005e-01  \n",
       "           Tropical and Subtropical Forests  3.220941e-03  "
      ]
     },
     "execution_count": 23,
     "metadata": {},
     "output_type": "execute_result"
    }
   ],
   "source": [
    "sen_analysis_res"
   ]
  },
  {
   "cell_type": "markdown",
   "metadata": {},
   "source": [
    "### Estimating the effect of splitting the biomes into realms on the final estimates of biomass"
   ]
  },
  {
   "cell_type": "markdown",
   "metadata": {},
   "source": [
    "#### estimating the area of biomes and realms"
   ]
  },
  {
   "cell_type": "code",
   "execution_count": 24,
   "metadata": {},
   "outputs": [
    {
     "name": "stderr",
     "output_type": "stream",
     "text": [
      "/Users/Yuvalr/opt/anaconda3/lib/python3.7/site-packages/pyproj/crs/crs.py:68: FutureWarning: '+init=<authority>:<code>' syntax is deprecated. '<authority>:<code>' is the preferred initialization method. When making the change, be mindful of axis order changes: https://pyproj4.github.io/pyproj/stable/gotchas.html#axis-order-changes-in-proj-6\n",
      "  return _prepare_from_string(\" \".join(pjargs))\n"
     ]
    }
   ],
   "source": [
    "# load the data on the biomes\n",
    "ecoregion_gdf = gpd.read_file('data/terr_eco_regions/tnc_terr_ecoregions.shp')\n",
    "aggregated_biome_data = pd.read_csv('data/aggregated_biomes_data_20210613.csv')\n",
    "# group data based on aggregated biomes and realms and calculate the area for each\n",
    "ecoregion_merged_gdf = ecoregion_gdf.merge(aggregated_biome_data[['biome','aggregated biome 1']],left_on='WWF_MHTNAM',right_on='biome')\n",
    "aggregated_biomes_gpd = ecoregion_merged_gdf.dissolve(by=['aggregated biome 1','WWF_REALM2'])\n",
    "crs = ccrs.Mollweide()\n",
    "crs_proj4 = crs.proj4_init\n",
    "aggregated_biomes_gpd_mol = aggregated_biomes_gpd.to_crs(crs_proj4)\n",
    "biome_realm_area = aggregated_biomes_gpd_mol['geometry'].area\n",
    "biome_realm_area.name = 'area'"
   ]
  },
  {
   "cell_type": "code",
   "execution_count": 29,
   "metadata": {},
   "outputs": [
    {
     "data": {
      "text/plain": [
       "WWF_REALM2\n",
       "Afrotropic     15.0\n",
       "Australasia     5.0\n",
       "Indo-Malay     29.0\n",
       "Nearctic        1.0\n",
       "Neotropic      47.0\n",
       "Oceania         0.0\n",
       "Palearctic      2.0\n",
       "Name: area, dtype: float64"
      ]
     },
     "execution_count": 29,
     "metadata": {},
     "output_type": "execute_result"
    }
   ],
   "source": [
    "np.round(100*biome_realm_area['Tropical and Subtropical Forests']/biome_realm_area['Tropical and Subtropical Forests'].sum())"
   ]
  },
  {
   "cell_type": "code",
   "execution_count": 25,
   "metadata": {},
   "outputs": [
    {
     "ename": "NameError",
     "evalue": "name 'xr' is not defined",
     "output_type": "error",
     "traceback": [
      "\u001b[0;31m---------------------------------------------------------------------------\u001b[0m",
      "\u001b[0;31mNameError\u001b[0m                                 Traceback (most recent call last)",
      "\u001b[0;32m<ipython-input-25-c32d4b5de72e>\u001b[0m in \u001b[0;36m<module>\u001b[0;34m\u001b[0m\n\u001b[1;32m      1\u001b[0m \u001b[0;31m# estimate the area of cropland and pasture in each biome/realm combination\u001b[0m\u001b[0;34m\u001b[0m\u001b[0;34m\u001b[0m\u001b[0;34m\u001b[0m\u001b[0m\n\u001b[0;32m----> 2\u001b[0;31m \u001b[0mcrop_da\u001b[0m \u001b[0;34m=\u001b[0m \u001b[0mxr\u001b[0m\u001b[0;34m.\u001b[0m\u001b[0mopen_rasterio\u001b[0m\u001b[0;34m(\u001b[0m\u001b[0;34m'data/cropland.tif'\u001b[0m\u001b[0;34m)\u001b[0m\u001b[0;34m\u001b[0m\u001b[0;34m\u001b[0m\u001b[0m\n\u001b[0m\u001b[1;32m      3\u001b[0m \u001b[0mx\u001b[0m \u001b[0;34m=\u001b[0m \u001b[0mcrop_da\u001b[0m\u001b[0;34m.\u001b[0m\u001b[0mrio\u001b[0m\u001b[0;34m.\u001b[0m\u001b[0mclip\u001b[0m\u001b[0;34m(\u001b[0m\u001b[0maggregated_biomes_gpd\u001b[0m\u001b[0;34m.\u001b[0m\u001b[0miloc\u001b[0m\u001b[0;34m[\u001b[0m\u001b[0;36m1\u001b[0m\u001b[0;34m]\u001b[0m\u001b[0;34m.\u001b[0m\u001b[0mgeometry\u001b[0m\u001b[0;34m,\u001b[0m\u001b[0maggregated_biomes_gpd\u001b[0m\u001b[0;34m.\u001b[0m\u001b[0mcrs\u001b[0m\u001b[0;34m)\u001b[0m\u001b[0;34m\u001b[0m\u001b[0;34m\u001b[0m\u001b[0m\n",
      "\u001b[0;31mNameError\u001b[0m: name 'xr' is not defined"
     ]
    }
   ],
   "source": [
    "# estimate the area of cropland and pasture in each biome/realm combination\n",
    "crop_da = xr.open_rasterio('data/cropland.tif')\n",
    "x = crop_da.rio.clip(aggregated_biomes_gpd.iloc[1].geometry,aggregated_biomes_gpd.crs)"
   ]
  },
  {
   "cell_type": "code",
   "execution_count": null,
   "metadata": {},
   "outputs": [],
   "source": [
    "def reproject_raster(raster,dst_crs,band=1):\n",
    "    transform, width, height = calculate_default_transform(raster.crs, dst_crs, raster.width, raster.height, *raster.bounds)\n",
    "    kwargs = raster.meta.copy()\n",
    "\n",
    "    kwargs.update({\n",
    "        'crs': dst_crs,\n",
    "        'transform': transform,\n",
    "        'width': width,\n",
    "        'height': height\n",
    "    })\n",
    "    # out_np = raster.read(band).T\n",
    "    out_np = np.zeros((height,width))\n",
    "    reproject(\n",
    "    source=rio.band(raster, band),\n",
    "    destination=out_np,\n",
    "    src_transform=raster.transform,\n",
    "    src_crs=raster.crs,\n",
    "    dst_transform=transform,\n",
    "    dst_crs=dst_crs,\n",
    "    resampling=Resampling.nearest)\n",
    "    return out_np,kwargs\n",
    "\n",
    "def intersect_shp_rs(x,raster,raster_params):\n",
    "    return gpd.GeoDataFrame.from_features(rs.zonal_stats(x.geometry,raster,nodata=raster_params['nodata'],affine=raster_params['transform'],geojson_out=True,copy_properties=True,stats='mean'))['mean']"
   ]
  },
  {
   "cell_type": "code",
   "execution_count": null,
   "metadata": {},
   "outputs": [],
   "source": [
    "crop_rs = rio.open('data/cropland.tif')\n",
    "pasture_rs = rio.open('data/pasture.tif')\n",
    "moll = '+proj=moll +lon_0=0 +x_0=0 +y_0=0 +datum=WGS84 +units=m +no_defs'\n",
    "\n",
    "crop_rs_mol,crop_params = reproject_raster(crop_rs,moll)\n",
    "pasture_rs_mol,pasture_params = reproject_raster(pasture_rs,moll)"
   ]
  },
  {
   "cell_type": "code",
   "execution_count": null,
   "metadata": {},
   "outputs": [],
   "source": [
    "# mean_crop_gdf = gpd.GeoDataFrame.from_features(rs.zonal_stats(ecoregion_merged_gdf,crop_mol,nodata=crop_rs.profile['nodata'],affine=crop_params['transform'],geojson_out=True,copy_properties=True,stats='mean'))\n",
    "# mean_pasture_gdf = gpd.GeoDataFrame.from_features(rs.zonal_stats(ecoregion_merged_gdf,pasture_mol,nodata=pasture_rs.profile['nodata'],affine=pasture_params['transform'],geojson_out=True,copy_properties=True,stats='mean'))"
   ]
  },
  {
   "cell_type": "code",
   "execution_count": null,
   "metadata": {},
   "outputs": [],
   "source": [
    "mean_crop_biome_realm = aggregated_biomes_gpd_mol.apply(intersect_shp_rs,args=(crop_rs_mol,crop_params),axis=1)\n",
    "mean_pasture_biome_realm = aggregated_biomes_gpd_mol.apply(intersect_shp_rs,args=(pasture_rs_mol,pasture_params),axis=1)\n",
    "total_crop_biome_realm = mean_crop_biome_realm[0]*aggregated_biomes_gpd_mol.area\n",
    "total_pasture_biome_realm = mean_pasture_biome_realm[0]*aggregated_biomes_gpd_mol.area"
   ]
  },
  {
   "cell_type": "code",
   "execution_count": null,
   "metadata": {},
   "outputs": [],
   "source": [
    "crop_realms = pd.concat({'Crops': total_crop_biome_realm.unstack().sum()},names=['aggregated biome 1'])\n",
    "pasture_realms = pd.concat({'Pasture': total_pasture_biome_realm.unstack().sum()},names=['aggregated biome 1'])"
   ]
  },
  {
   "cell_type": "code",
   "execution_count": null,
   "metadata": {},
   "outputs": [],
   "source": [
    "biome_no_crop_pasture = pd.concat([biome_realm_area,total_crop_biome_realm,total_pasture_biome_realm],axis=1).fillna(0)\n",
    "biome_no_crop_pasture = (biome_no_crop_pasture['area']-biome_no_crop_pasture[0]-biome_no_crop_pasture[1])\n",
    "biome_realm_area_full = pd.concat([biome_no_crop_pasture,crop_realms,pasture_realms])"
   ]
  },
  {
   "cell_type": "code",
   "execution_count": null,
   "metadata": {},
   "outputs": [],
   "source": [
    "biome_realm_area_full.name = 'area'"
   ]
  },
  {
   "cell_type": "markdown",
   "metadata": {},
   "source": [
    "#### Use only the average values"
   ]
  },
  {
   "cell_type": "code",
   "execution_count": null,
   "metadata": {},
   "outputs": [],
   "source": [
    "# determine on which biomes and taxa to perform the analysis - use only biomes and taxa for which we have data in more than 1 realm\n",
    "site_biome_realm_counts = soil_site_data_mass_all_realm.groupby(['aggregated taxon','aggregated biome','WWF_REALM2']).site.nunique()\n",
    "taxa_biome_for_analysis = site_biome_realm_counts.groupby(['aggregated taxon','aggregated biome']).count()\n",
    "taxa_biome_for_analysis = taxa_biome_for_analysis[taxa_biome_for_analysis>1]"
   ]
  },
  {
   "cell_type": "code",
   "execution_count": null,
   "metadata": {},
   "outputs": [],
   "source": [
    "# calculate realm specific means\n",
    "biome_realm_mean = soil_site_data_mass_all_realm.groupby(['aggregated taxon','aggregated biome','WWF_REALM2'])['mass_B'].mean().reset_index('WWF_REALM2')\n",
    "biome_mean = soil_site_data_mass_all_realm.groupby(['aggregated taxon','aggregated biome'])['mass_B'].mean()\n",
    "\n",
    "# filter the data to contain only the relevant taxa/biomes\n",
    "filt_biome_realm_mean = biome_realm_mean.loc[taxa_biome_for_analysis.index].reset_index()\n",
    "filt_biome_mean = biome_mean.loc[taxa_biome_for_analysis.index]\n",
    "\n",
    "# merge the area of each realm to calculate the total mass in each realm\n",
    "filt_biome_realm_mean = filt_biome_realm_mean.merge(biome_realm_area_full.reset_index(),left_on=['aggregated biome','WWF_REALM2'],right_on=['aggregated biome 1','WWF_REALM2'],how='inner')\n",
    "filt_biome_realm_mean['total_mass'] = filt_biome_realm_mean['mass_B']*filt_biome_realm_mean['area']\n",
    "no_realm_total = (filt_biome_mean*filt_biome_realm_mean.groupby(['aggregated taxon','aggregated biome'])['area'].sum()).fillna(0).sum()"
   ]
  },
  {
   "cell_type": "code",
   "execution_count": null,
   "metadata": {},
   "outputs": [],
   "source": [
    "print(no_realm_total/1e15)\n",
    "print(filt_biome_realm_mean['total_mass'].sum()/1e15)"
   ]
  },
  {
   "cell_type": "markdown",
   "metadata": {},
   "source": [
    "#### Perform the same analysis but using bootstrapping and Monte Carlo"
   ]
  },
  {
   "cell_type": "code",
   "execution_count": null,
   "metadata": {},
   "outputs": [],
   "source": [
    "  \n",
    "#Bootstrap using random choose with replacement. returns an array of means\n",
    "def Boot_means(vals, sigma,Boot_N):\n",
    "    L = len(vals)\n",
    "    means = np.zeros(Boot_N) \n",
    "\n",
    "    for ii in range(Boot_N): #random choose with replacement\n",
    "        indx = rng.choice(np.array(range(L)),L, replace=True)\n",
    "\n",
    "        Boot = np.zeros(L)\n",
    "        jj=0\n",
    "        for ind in indx: #add the measurement uncertainties using a normal distribution\n",
    "            Boot[jj] = np.max( [ 0 , rng.normal(vals[ind], sigma[ind], 1) ])\n",
    "            jj +=1\n",
    "        \n",
    "        means[ii] = np.mean(Boot) #take the mean of a single resample\n",
    "    \n",
    "    return means\n",
    "\n",
    "#Extract mean and 95% CI from bootstrapped data (returns an array)\n",
    "def Boot_stats(means, prcnt_low=2.5, prcnt_high=97.5):    \n",
    "    Mean = np.mean(means)\n",
    "    prcnt = np.percentile(means,[prcnt_low,prcnt_high])\n",
    "    return np.array([Mean , prcnt[0], prcnt[1]])\n",
    "\n",
    "\n",
    "#Functions that help to handel the bootstrapped data and help in the Monte Carlo process for the total sum\n",
    "\n",
    "#~~~ Think how to improve this function to reduce the effects of bin position and number of bins. Perhaps using a kde?\n",
    "\n",
    "def means_to_cdf(means, Nbins=20): #converts the means array into a descrete cdf (cumulative distribution function) using a histogram with Nbins bins. \n",
    "    hist, bin_edges = np.histogram(means, bins = Nbins, density = False)\n",
    "    bin_centers = (bin_edges[:-1] + bin_edges[1:] )/2\n",
    "    cdf = np.cumsum(hist)\n",
    "    cdf = cdf / cdf[-1]\n",
    "    return cdf, bin_centers\n",
    "\n",
    "def random_from_cdf(cdf,bin_centers,N): #picks N values of bin_centers according to the histogram's cdf\n",
    "    values = np.random.rand(N)\n",
    "    value_bins_indx = np.searchsorted(cdf, values)\n",
    "    rnd_from_cdf = bin_centers[value_bins_indx]\n",
    "    return rnd_from_cdf\n",
    "\n",
    "rng = np.random.default_rng()"
   ]
  },
  {
   "cell_type": "markdown",
   "metadata": {},
   "source": [
    "Calculate means by biome"
   ]
  },
  {
   "cell_type": "code",
   "execution_count": null,
   "metadata": {},
   "outputs": [],
   "source": [
    "#extract the data for bootstrapping, and make the calculation using a for loop\n",
    "x = soil_site_data_mass_all_realm.set_index(['aggregated taxon','aggregated biome'])['mass_G'].sort_index()\n",
    "sigma = soil_site_data_mass_all_std_realm.set_index(['aggregated taxon','aggregated biome'])['mass_G'].sort_index()\n",
    "\n",
    "soil_biome_mean_std_boot = pd.DataFrame(index = x.index.unique(), columns=['mean','2.5%','97.5%']) #initialize the bootstrap array for soil data\n",
    "\n",
    "soil_means_dist = pd.DataFrame(index = x.index.unique(), columns=['cdf','values']) #initialize the means distribution array \n",
    "\n",
    "#Parameters for bootstrapping: (change to control precision and runtime)\n",
    "NBins = 20\n",
    "Boot_N = 1000\n",
    "\n",
    "for taxon, biome in x.index.unique():\n",
    "    means = Boot_means(x.loc[taxon,biome], sigma.loc[taxon,biome],Boot_N = Boot_N)\n",
    "    soil_biome_mean_std_boot.loc[taxon,biome] = Boot_stats(means, prcnt_low=2.5, prcnt_high=97.5)\n",
    "    soil_means_dist.loc[taxon,biome] = means_to_cdf(means, Nbins=NBins)"
   ]
  },
  {
   "cell_type": "markdown",
   "metadata": {},
   "source": [
    "Filter data to contain only biomes relevant for the "
   ]
  },
  {
   "cell_type": "code",
   "execution_count": null,
   "metadata": {},
   "outputs": [],
   "source": [
    "#plot distribution of the total biomass using bootstrapping\n",
    "\n",
    "biome_area = pd.read_csv('data/aggregated biomes data.csv') # biomes area in units of m^2\n",
    "biome_area.loc[biome_area.biome=='Mediterranean Forests, Woodlands and Scrub','aggregated biome 1'] = 'Mediterranean Forests, Woodlands and Scrub'\n",
    "biome_area1 = biome_area.groupby('aggregated biome 1')['area'].sum() #aggregate the biomes areas\n",
    "\n",
    "filt_soil_means_dist = soil_means_dist.loc[taxa_biome_for_analysis.index]\n",
    "# filt_soil_means_dist = soil_means_dist[~soil_means_dist.index.isin(taxa_biome_for_analysis.index)]\n",
    "filt_soil_means_dist_tot = filt_soil_means_dist\n",
    "filt_soil_means_dist_tot['total_mass'] = filt_soil_means_dist_tot['values']*filt_biome_realm_mean.groupby(['aggregated taxon','aggregated biome'])['area'].sum()\n",
    "# filt_soil_means_dist_tot = filt_soil_means_dist.merge(pd.DataFrame(biome_area1),left_on='aggregated biome',right_index=True) #add the total areas of the aggregated biomes \n",
    "# soil_means_dist_tot = filt_soil_means_dist.merge(pd.DataFrame(biome_area1),left_on='aggregated biome',right_index=True) #add the total areas of the aggregated biomes \n",
    "# soil_means_dist_tot.loc[:,'values'] = (soil_means_dist_tot['values']*soil_means_dist_tot['area'])\n",
    "# filt_soil_means_dist_tot['total_mass'] = filt_soil_means_dist_tot['values']*filt_soil_means_dist_tot['area']\n",
    "# soil_means_dist_tot.drop('area',axis='columns',inplace=True)\n",
    "\n",
    "N_total_dist = 10000\n",
    "total_soil_dist = filt_soil_means_dist_tot.apply(lambda x: pd.Series(random_from_cdf(x['cdf'],x['total_mass'],N_total_dist),index=range(N_total_dist)),axis=1)\n",
    "total_soil_dist /= 1e15\n",
    "\n",
    "plt.hist(total_soil_dist.sum(axis=0),40);"
   ]
  },
  {
   "cell_type": "code",
   "execution_count": null,
   "metadata": {},
   "outputs": [],
   "source": [
    "#extract the data for bootstrapping, and make the calculation using a for loop\n",
    "x = soil_site_data_mass_all_realm.set_index(['aggregated taxon','aggregated biome','WWF_REALM2'])['mass_G'].sort_index()\n",
    "sigma = soil_site_data_mass_all_std_realm.set_index(['aggregated taxon','aggregated biome','WWF_REALM2'])['mass_G'].sort_index()\n",
    "\n",
    "soil_biome_realm_mean_std_boot = pd.DataFrame(index = x.index.unique(), columns=['mean','2.5%','97.5%']) #initialize the bootstrap array for soil data\n",
    "\n",
    "soil_biome_realm_means_dist = pd.DataFrame(index = x.index.unique(), columns=['cdf','values']) #initialize the means distribution array \n",
    "\n",
    "#Parameters for bootstrapping: (change to control precision and runtime)\n",
    "NBins = 20\n",
    "Boot_N = 1000\n",
    "\n",
    "for taxon, biome, realm in x.index.unique():\n",
    "    means = Boot_means(x.loc[taxon,biome,realm], sigma.loc[taxon,biome,realm],Boot_N = Boot_N)\n",
    "    soil_biome_realm_mean_std_boot.loc[taxon,biome,realm] = Boot_stats(means, prcnt_low=2.5, prcnt_high=97.5)\n",
    "    soil_biome_realm_means_dist.loc[taxon,biome,realm] = means_to_cdf(means, Nbins=NBins)"
   ]
  },
  {
   "cell_type": "code",
   "execution_count": null,
   "metadata": {},
   "outputs": [],
   "source": [
    "filt_soil_biome_realm_means_dist = soil_biome_realm_means_dist.reset_index('WWF_REALM2').loc[taxa_biome_for_analysis.index].reset_index()\n",
    "filt_soil_biome_realm_means_dist = filt_soil_biome_realm_means_dist.merge(biome_realm_area_full.reset_index(),left_on=['aggregated biome','WWF_REALM2'],right_on=['aggregated biome 1','WWF_REALM2'],how='inner')\n",
    "filt_soil_biome_realm_means_dist['total_mass'] = filt_soil_biome_realm_means_dist['values']*filt_soil_biome_realm_means_dist['area']\n",
    "N_total_dist = 10000\n",
    "total_soil_dist_realm = filt_soil_biome_realm_means_dist.apply(lambda x: pd.Series(random_from_cdf(x['cdf'],x['total_mass'],N_total_dist),index=range(N_total_dist)),axis=1)\n",
    "total_soil_dist_realm /= 1e15\n"
   ]
  },
  {
   "cell_type": "code",
   "execution_count": null,
   "metadata": {},
   "outputs": [],
   "source": [
    "fig, ax = plt.subplots(dpi=300,figsize=(3,3))\n",
    "ax.hist(total_soil_dist.sum(axis=0),40,alpha=0.6,label='aggregated\\nby biome',density=True);\n",
    "ax.hist(total_soil_dist_realm.sum(),40,alpha=0.6,label='aggregated\\nby realm',density=True);\n",
    "ax.set(xlabel='Mt dry weight')\n",
    "ax.legend()\n",
    "ax.yaxis.set_major_formatter(ticker.PercentFormatter(1,1))\n",
    "ax.set(ylabel='probability density')\n",
    "plt.savefig('results/fig_s2.png',dpi=300,bbox_inches='tight')"
   ]
  },
  {
   "cell_type": "code",
   "execution_count": null,
   "metadata": {},
   "outputs": [],
   "source": [
    "print(total_soil_dist.sum(axis=0).median())\n",
    "print(total_soil_dist_realm.sum().median())"
   ]
  },
  {
   "cell_type": "markdown",
   "metadata": {},
   "source": [
    "### Aggregating soil groups without biomes"
   ]
  },
  {
   "cell_type": "code",
   "execution_count": null,
   "metadata": {},
   "outputs": [],
   "source": [
    "#extract the data for bootstrapping, and make the calculation using a for loop\n",
    "x = soil_site_data_mass_all_realm.set_index(['aggregated taxon'])['mass_G'].sort_index()\n",
    "sigma = soil_site_data_mass_all_std_realm.set_index(['aggregated taxon'])['mass_G'].sort_index()\n",
    "\n",
    "soil_mean_std_boot_no_biome = pd.DataFrame(index = x.index.unique(), columns=['mean','2.5%','97.5%']) #initialize the bootstrap array for soil data\n",
    "\n",
    "soil_means_dist_no_biome = pd.DataFrame(index = x.index.unique(), columns=['cdf','values']) #initialize the means distribution array \n",
    "\n",
    "#Parameters for bootstrapping: (change to control precision and runtime)\n",
    "NBins = 20\n",
    "Boot_N = 1000\n",
    "\n",
    "for taxon in x.index.unique():\n",
    "    means = Boot_means(x.loc[taxon], sigma.loc[taxon],Boot_N = Boot_N)\n",
    "    soil_mean_std_boot_no_biome.loc[taxon] = Boot_stats(means, prcnt_low=2.5, prcnt_high=97.5)\n",
    "    soil_means_dist_no_biome.loc[taxon] = means_to_cdf(means, Nbins=NBins)"
   ]
  },
  {
   "cell_type": "code",
   "execution_count": null,
   "metadata": {},
   "outputs": [],
   "source": [
    "soil_means_dist_no_biome['total_mass'] = soil_means_dist_no_biome['values']*biome_realm_area.drop('Excluded').sum()\n",
    "N_total_dist = 10000\n",
    "total_soil_dist_no_biome = soil_means_dist_no_biome.apply(lambda x: pd.Series(random_from_cdf(x['cdf'],x['total_mass'],N_total_dist),index=range(N_total_dist)),axis=1)\n",
    "total_soil_dist_no_biome /= 1e15\n"
   ]
  },
  {
   "cell_type": "code",
   "execution_count": null,
   "metadata": {},
   "outputs": [],
   "source": [
    "soil_means_dist\n",
    "soil_means_dist['total_mass'] = soil_means_dist['values'].values*biome_area1.loc[soil_means_dist.index.get_level_values(1)].values\n",
    "N_total_dist = 10000\n",
    "total_soil_dist = soil_means_dist.apply(lambda x: pd.Series(random_from_cdf(x['cdf'],x['total_mass'],N_total_dist),index=range(N_total_dist)),axis=1)\n",
    "total_soil_dist /= 1e15\n"
   ]
  },
  {
   "cell_type": "code",
   "execution_count": null,
   "metadata": {},
   "outputs": [],
   "source": [
    "fig, ax = plt.subplots(dpi=300,figsize=(3,3))\n",
    "ax.hist(total_soil_dist.sum(axis=0),40,alpha=0.6,label='aggregated\\nby biome',density=True);\n",
    "ax.hist(total_soil_dist_no_biome.sum(),40,alpha=0.6,label='not aggregated',density=True);\n",
    "ax.set(xlabel='Mt dry weight')\n",
    "ax.legend()\n",
    "ax.yaxis.set_major_formatter(ticker.PercentFormatter(1,1))\n",
    "ax.set(ylabel='probability density')\n",
    "plt.savefig('results/fig_s3.png',dpi=300,bbox_inches='tight')"
   ]
  },
  {
   "cell_type": "code",
   "execution_count": null,
   "metadata": {},
   "outputs": [],
   "source": [
    "total_soil_dist.sum(axis=0).mean()"
   ]
  },
  {
   "cell_type": "code",
   "execution_count": null,
   "metadata": {},
   "outputs": [],
   "source": [
    "import geemap\n",
    "# Map = geemap.Map(center=(40, -100), zoom=4)\n",
    "# Map"
   ]
  },
  {
   "cell_type": "code",
   "execution_count": null,
   "metadata": {},
   "outputs": [],
   "source": [
    "Map = geemap.Map(center=(40, -100), zoom=4)"
   ]
  },
  {
   "cell_type": "code",
   "execution_count": null,
   "metadata": {},
   "outputs": [],
   "source": []
  }
 ],
 "metadata": {
  "interpreter": {
   "hash": "c69d396966746d09ab0b885a3fbc80e500ef458207a5c41f6ddd7cbbce441723"
  },
  "kernelspec": {
   "display_name": "Python 3",
   "language": "python",
   "name": "python3"
  },
  "language_info": {
   "codemirror_mode": {
    "name": "ipython",
    "version": 3
   },
   "file_extension": ".py",
   "mimetype": "text/x-python",
   "name": "python",
   "nbconvert_exporter": "python",
   "pygments_lexer": "ipython3",
   "version": "3.7.4"
  }
 },
 "nbformat": 4,
 "nbformat_minor": 4
}
