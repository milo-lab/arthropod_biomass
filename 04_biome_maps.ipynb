{
 "cells": [
  {
   "cell_type": "code",
   "execution_count": 1,
   "source": [
    "import fiona\r\n",
    "import geopandas as gpd\r\n",
    "import pandas as pd\r\n",
    "import cartopy.crs as ccrs\r\n",
    "import matplotlib.pyplot as plt\r\n",
    "from matplotlib import cm\r\n",
    "import numpy as np\r\n",
    "import matplotlib.patches as mpatches\r\n",
    "import rasterio as rio\r\n",
    "from rasterio.warp import calculate_default_transform, reproject, Resampling,transform\r\n",
    "from rasterio.crs import CRS\r\n",
    "from rasterio import plot\r\n",
    "import xarray as xr\r\n",
    "import matplotlib.ticker as ticker\r\n",
    "from mpl_toolkits.axes_grid1 import make_axes_locatable\r\n",
    "\r\n",
    "\r\n",
    "def reproject_raster(raster,dst_crs,band=1):\r\n",
    "    transform, width, height = calculate_default_transform(raster.crs, dst_crs, raster.width, raster.height, *raster.bounds)\r\n",
    "    kwargs = raster.meta.copy()\r\n",
    "\r\n",
    "    kwargs.update({\r\n",
    "        'crs': dst_crs,\r\n",
    "        'transform': transform,\r\n",
    "        'width': width,\r\n",
    "        'height': height\r\n",
    "    })\r\n",
    "    out_np = raster.read(band)\r\n",
    "    out_np = np.ones((height,width))*kwargs['nodata']\r\n",
    "    reproject(\r\n",
    "    source=rio.band(raster, band),\r\n",
    "    destination=out_np,\r\n",
    "    src_transform=raster.transform,\r\n",
    "    src_crs=raster.crs,\r\n",
    "    dst_transform=transform,\r\n",
    "    dst_crs=dst_crs,\r\n",
    "    resampling=Resampling.nearest)\r\n",
    "    return out_np,kwargs"
   ],
   "outputs": [
    {
     "output_type": "error",
     "ename": "ImportError",
     "evalue": "DLL load failed while importing ogrext: The specified module could not be found.",
     "traceback": [
      "\u001b[1;31m---------------------------------------------------------------------------\u001b[0m",
      "\u001b[1;31mImportError\u001b[0m                               Traceback (most recent call last)",
      "\u001b[1;32m<ipython-input-1-8d7e951f5ea0>\u001b[0m in \u001b[0;36m<module>\u001b[1;34m\u001b[0m\n\u001b[1;32m----> 1\u001b[1;33m \u001b[1;32mimport\u001b[0m \u001b[0mfiona\u001b[0m\u001b[1;33m\u001b[0m\u001b[1;33m\u001b[0m\u001b[0m\n\u001b[0m\u001b[0;32m      2\u001b[0m \u001b[1;32mimport\u001b[0m \u001b[0mgeopandas\u001b[0m \u001b[1;32mas\u001b[0m \u001b[0mgpd\u001b[0m\u001b[1;33m\u001b[0m\u001b[1;33m\u001b[0m\u001b[0m\n\u001b[0;32m      3\u001b[0m \u001b[1;32mimport\u001b[0m \u001b[0mpandas\u001b[0m \u001b[1;32mas\u001b[0m \u001b[0mpd\u001b[0m\u001b[1;33m\u001b[0m\u001b[1;33m\u001b[0m\u001b[0m\n\u001b[0;32m      4\u001b[0m \u001b[1;32mimport\u001b[0m \u001b[0mcartopy\u001b[0m\u001b[1;33m.\u001b[0m\u001b[0mcrs\u001b[0m \u001b[1;32mas\u001b[0m \u001b[0mccrs\u001b[0m\u001b[1;33m\u001b[0m\u001b[1;33m\u001b[0m\u001b[0m\n\u001b[0;32m      5\u001b[0m \u001b[1;32mimport\u001b[0m \u001b[0mmatplotlib\u001b[0m\u001b[1;33m.\u001b[0m\u001b[0mpyplot\u001b[0m \u001b[1;32mas\u001b[0m \u001b[0mplt\u001b[0m\u001b[1;33m\u001b[0m\u001b[1;33m\u001b[0m\u001b[0m\n",
      "\u001b[1;32m~\\anaconda3\\envs\\py38\\lib\\site-packages\\fiona\\__init__.py\u001b[0m in \u001b[0;36m<module>\u001b[1;34m\u001b[0m\n\u001b[0;32m     84\u001b[0m \u001b[1;32mimport\u001b[0m \u001b[0mfiona\u001b[0m\u001b[1;33m.\u001b[0m\u001b[0m_loading\u001b[0m\u001b[1;33m\u001b[0m\u001b[1;33m\u001b[0m\u001b[0m\n\u001b[0;32m     85\u001b[0m \u001b[1;32mwith\u001b[0m \u001b[0mfiona\u001b[0m\u001b[1;33m.\u001b[0m\u001b[0m_loading\u001b[0m\u001b[1;33m.\u001b[0m\u001b[0madd_gdal_dll_directories\u001b[0m\u001b[1;33m(\u001b[0m\u001b[1;33m)\u001b[0m\u001b[1;33m:\u001b[0m\u001b[1;33m\u001b[0m\u001b[1;33m\u001b[0m\u001b[0m\n\u001b[1;32m---> 86\u001b[1;33m     \u001b[1;32mfrom\u001b[0m \u001b[0mfiona\u001b[0m\u001b[1;33m.\u001b[0m\u001b[0mcollection\u001b[0m \u001b[1;32mimport\u001b[0m \u001b[0mBytesCollection\u001b[0m\u001b[1;33m,\u001b[0m \u001b[0mCollection\u001b[0m\u001b[1;33m\u001b[0m\u001b[1;33m\u001b[0m\u001b[0m\n\u001b[0m\u001b[0;32m     87\u001b[0m     \u001b[1;32mfrom\u001b[0m \u001b[0mfiona\u001b[0m\u001b[1;33m.\u001b[0m\u001b[0mdrvsupport\u001b[0m \u001b[1;32mimport\u001b[0m \u001b[0msupported_drivers\u001b[0m\u001b[1;33m\u001b[0m\u001b[1;33m\u001b[0m\u001b[0m\n\u001b[0;32m     88\u001b[0m     \u001b[1;32mfrom\u001b[0m \u001b[0mfiona\u001b[0m\u001b[1;33m.\u001b[0m\u001b[0menv\u001b[0m \u001b[1;32mimport\u001b[0m \u001b[0mensure_env_with_credentials\u001b[0m\u001b[1;33m,\u001b[0m \u001b[0mEnv\u001b[0m\u001b[1;33m\u001b[0m\u001b[1;33m\u001b[0m\u001b[0m\n",
      "\u001b[1;32m~\\anaconda3\\envs\\py38\\lib\\site-packages\\fiona\\collection.py\u001b[0m in \u001b[0;36m<module>\u001b[1;34m\u001b[0m\n\u001b[0;32m      9\u001b[0m \u001b[1;32mwith\u001b[0m \u001b[0mfiona\u001b[0m\u001b[1;33m.\u001b[0m\u001b[0m_loading\u001b[0m\u001b[1;33m.\u001b[0m\u001b[0madd_gdal_dll_directories\u001b[0m\u001b[1;33m(\u001b[0m\u001b[1;33m)\u001b[0m\u001b[1;33m:\u001b[0m\u001b[1;33m\u001b[0m\u001b[1;33m\u001b[0m\u001b[0m\n\u001b[0;32m     10\u001b[0m     \u001b[1;32mfrom\u001b[0m \u001b[0mfiona\u001b[0m \u001b[1;32mimport\u001b[0m \u001b[0mcompat\u001b[0m\u001b[1;33m,\u001b[0m \u001b[0mvfs\u001b[0m\u001b[1;33m\u001b[0m\u001b[1;33m\u001b[0m\u001b[0m\n\u001b[1;32m---> 11\u001b[1;33m     \u001b[1;32mfrom\u001b[0m \u001b[0mfiona\u001b[0m\u001b[1;33m.\u001b[0m\u001b[0mogrext\u001b[0m \u001b[1;32mimport\u001b[0m \u001b[0mIterator\u001b[0m\u001b[1;33m,\u001b[0m \u001b[0mItemsIterator\u001b[0m\u001b[1;33m,\u001b[0m \u001b[0mKeysIterator\u001b[0m\u001b[1;33m\u001b[0m\u001b[1;33m\u001b[0m\u001b[0m\n\u001b[0m\u001b[0;32m     12\u001b[0m     \u001b[1;32mfrom\u001b[0m \u001b[0mfiona\u001b[0m\u001b[1;33m.\u001b[0m\u001b[0mogrext\u001b[0m \u001b[1;32mimport\u001b[0m \u001b[0mSession\u001b[0m\u001b[1;33m,\u001b[0m \u001b[0mWritingSession\u001b[0m\u001b[1;33m\u001b[0m\u001b[1;33m\u001b[0m\u001b[0m\n\u001b[0;32m     13\u001b[0m     \u001b[1;32mfrom\u001b[0m \u001b[0mfiona\u001b[0m\u001b[1;33m.\u001b[0m\u001b[0mogrext\u001b[0m \u001b[1;32mimport\u001b[0m \u001b[0mbuffer_to_virtual_file\u001b[0m\u001b[1;33m,\u001b[0m \u001b[0mremove_virtual_file\u001b[0m\u001b[1;33m,\u001b[0m \u001b[0mGEOMETRY_TYPES\u001b[0m\u001b[1;33m\u001b[0m\u001b[1;33m\u001b[0m\u001b[0m\n",
      "\u001b[1;31mImportError\u001b[0m: DLL load failed while importing ogrext: The specified module could not be found."
     ]
    }
   ],
   "metadata": {}
  },
  {
   "cell_type": "code",
   "execution_count": 2,
   "source": [
    "ecoregion_gdf = gpd.read_file('data/terr_eco_regions/tnc_terr_ecoregions.shp')"
   ],
   "outputs": [],
   "metadata": {}
  },
  {
   "cell_type": "code",
   "execution_count": 3,
   "source": [
    "aggregated_biome_data = pd.read_csv('data/aggregated_biomes_data_20210613.csv')"
   ],
   "outputs": [],
   "metadata": {}
  },
  {
   "cell_type": "code",
   "execution_count": 4,
   "source": [
    "ecoregion_merged_gdf = ecoregion_gdf.merge(aggregated_biome_data[['biome','aggregated biome 1']],left_on='WWF_MHTNAM',right_on='biome')"
   ],
   "outputs": [],
   "metadata": {}
  },
  {
   "cell_type": "code",
   "execution_count": 5,
   "source": [
    "aggregated_biomes_gpd = ecoregion_merged_gdf.dissolve(by='aggregated biome 1')\r\n",
    "aggregated_biomes_gpd = aggregated_biomes_gpd.loc[aggregated_biomes_gpd.index[[0,1,3,4,5,6,7,8,2]]]"
   ],
   "outputs": [],
   "metadata": {}
  },
  {
   "cell_type": "code",
   "execution_count": 6,
   "source": [
    "crs = ccrs.Mollweide()\r\n",
    "crs_proj4 = crs.proj4_init\r\n",
    "aggregated_biomes_gdf_ae = aggregated_biomes_gpd.to_crs(crs_proj4)\r\n",
    "aggregated_biomes_gdf_ae['color'] = ['#065535','#F2D16B','#82490b','#5aa15f','#b8f500','#5ece1d','#fc9003','#a866e9','#dddddd']\r\n",
    "aggregated_biomes_gdf_ae.index = aggregated_biomes_gdf_ae.index.str.replace(',',',\\n')"
   ],
   "outputs": [],
   "metadata": {}
  },
  {
   "cell_type": "code",
   "execution_count": 24,
   "source": [
    "\r\n",
    "fig = plt.figure(dpi=300,figsize=(12,6))\r\n",
    "ax = plt.subplot(2,1,1,projection=crs)\r\n",
    "q = cm.get_cmap('tab10')\r\n",
    "geos = []\r\n",
    "ax.coastlines()\r\n",
    "ax.set_title('Biomes')\r\n",
    "biome_order = [7,0,3,5,4,6,2,1,8]\r\n",
    "for i,row in aggregated_biomes_gdf_ae.iloc[biome_order].iterrows():\r\n",
    "    ax.add_geometries(row['geometry'],crs=crs,facecolor=row['color'])\r\n",
    "    geos.append(mpatches.Rectangle((0, 0), 1, 1, facecolor=row['color']))\r\n",
    "plt.legend(geos,aggregated_biomes_gdf_ae.index[biome_order],ncol=2,bbox_to_anchor=(-0.012,1))\r\n",
    "\r\n",
    "\r\n",
    "crop_xr = xr.open_rasterio('data/cropland.tif')\r\n",
    "ax = plt.subplot(2,3,4,projection=crs)\r\n",
    "crop_xr = crop_xr.mean(dim='band')\r\n",
    "i = ax.imshow(crop_xr.where(crop_xr>=0),cmap='Greens',interpolation='none',transform=ccrs.PlateCarree())\r\n",
    "ax.coastlines()\r\n",
    "ax.set_title('Croplands')\r\n",
    "b = plt.colorbar(i,ax=ax,shrink=0.6, aspect=20*0.6,ticks=np.arange(0,1.2,0.2))\r\n",
    "b.formatter = ticker.PercentFormatter(1,0)\r\n",
    "b.update_ticks()\r\n",
    "\r\n",
    "pasture_xr = xr.open_rasterio('data/pasture.tif')\r\n",
    "ax = plt.subplot(2,3,5,projection=crs)\r\n",
    "pasture_xr = pasture_xr.mean(dim='band')\r\n",
    "i = ax.imshow(pasture_xr.where(pasture_xr>=0),cmap='Reds',interpolation='none',transform=ccrs.PlateCarree())\r\n",
    "# i = ax.contourf(pasture_xr.where(pasture_xr>=0),cmap='Reds',transform=ccrs.PlateCarree())\r\n",
    "ax.coastlines()\r\n",
    "ax.set_title('Pasture')\r\n",
    "b = plt.colorbar(i,ax=ax,shrink=0.6, aspect=20*0.6,ticks=np.arange(0,1.2,0.2))\r\n",
    "b.formatter = ticker.PercentFormatter(1,0)\r\n",
    "b.update_ticks()\r\n",
    "\r\n",
    "ax = plt.subplot(2,3,6,projection=crs)\r\n",
    "i = ax.imshow(1- pasture_xr.where(pasture_xr>=0)-crop_xr.where(crop_xr>=0),cmap='Blues',interpolation='none',transform=ccrs.PlateCarree())\r\n",
    "# i = ax.contourf(pasture_xr.where(pasture_xr>=0),cmap='Reds',transform=ccrs.PlateCarree())\r\n",
    "ax.coastlines()\r\n",
    "ax.set_title('Other (wilderness,\\nmanaged forests, etc.)')\r\n",
    "b = plt.colorbar(i,ax=ax,shrink=0.6, aspect=20*0.6,ticks=np.arange(0,1.2,0.2))\r\n",
    "b.formatter = ticker.PercentFormatter(1,0)\r\n",
    "b.update_ticks()\r\n",
    "\r\n",
    "plt.savefig('results/biome_maps.svg',dpi=300)"
   ],
   "outputs": [],
   "metadata": {}
  }
 ],
 "metadata": {
  "interpreter": {
   "hash": "c69d396966746d09ab0b885a3fbc80e500ef458207a5c41f6ddd7cbbce441723"
  },
  "kernelspec": {
   "display_name": "Python 3.8.6 64-bit ('py38': conda)",
   "name": "python3"
  },
  "language_info": {
   "name": "python",
   "version": ""
  },
  "orig_nbformat": 4
 },
 "nbformat": 4,
 "nbformat_minor": 2
}